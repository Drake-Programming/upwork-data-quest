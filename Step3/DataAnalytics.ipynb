{
 "cells": [
  {
   "cell_type": "code",
   "id": "initial_id",
   "metadata": {
    "collapsed": true,
    "ExecuteTime": {
     "end_time": "2025-02-14T01:02:47.851482Z",
     "start_time": "2025-02-14T01:02:47.468760Z"
    }
   },
   "source": [
    "from Step2.s3_target import S3Target\n",
    "import pandas as pd\n",
    "from io import StringIO\n",
    "import json"
   ],
   "outputs": [],
   "execution_count": 2
  },
  {
   "metadata": {},
   "cell_type": "markdown",
   "source": "Step 0",
   "id": "f281733209109226"
  },
  {
   "metadata": {
    "ExecuteTime": {
     "end_time": "2025-02-14T01:02:48.071600Z",
     "start_time": "2025-02-14T01:02:47.854484Z"
    }
   },
   "cell_type": "code",
   "source": [
    "s3_step_1 = S3Target('',\n",
    "                     '',\n",
    "                     '')\n",
    "s3_step_2 = S3Target('',\n",
    "                     '',\n",
    "                     '')"
   ],
   "id": "8fed95136c0dd36f",
   "outputs": [],
   "execution_count": 3
  },
  {
   "metadata": {
    "ExecuteTime": {
     "end_time": "2025-02-14T01:02:48.955958Z",
     "start_time": "2025-02-14T01:02:48.104601Z"
    }
   },
   "cell_type": "code",
   "source": [
    "# Download pr.data.0.Current from S3 bucket and convert it to Pandas dataframe\n",
    "pr_data_tsv = s3_step_1.download_file('pr.data.0.Current')\n",
    "pr_data_io = StringIO(pr_data_tsv)\n",
    "pr_data_df = pd.read_csv(pr_data_io, sep='\\t', header=None)"
   ],
   "id": "1f4ff7c34fd4c4b1",
   "outputs": [],
   "execution_count": 4
  },
  {
   "metadata": {
    "ExecuteTime": {
     "end_time": "2025-02-14T01:02:49.425764Z",
     "start_time": "2025-02-14T01:02:48.985764Z"
    }
   },
   "cell_type": "code",
   "source": [
    "# Download api population data from S3 bucket and convert it to Pandas dataframe\n",
    "api_pop_json = s3_step_2.download_file('usa_population.json')\n",
    "api_pop_dict = json.loads(api_pop_json)\n",
    "api_pop_df = pd.DataFrame(api_pop_dict[\"data\"])"
   ],
   "id": "4bd430b8b6222b3a",
   "outputs": [],
   "execution_count": 5
  },
  {
   "metadata": {
    "ExecuteTime": {
     "end_time": "2025-02-14T01:02:49.456780Z",
     "start_time": "2025-02-14T01:02:49.435769Z"
    }
   },
   "cell_type": "code",
   "source": [
    "# Display df\n",
    "api_pop_df"
   ],
   "id": "3a74999e1e3df4ba",
   "outputs": [
    {
     "data": {
      "text/plain": [
       "  ID Nation         Nation  ID Year  Year  Population    Slug Nation\n",
       "0   01000US  United States     2022  2022   331097593  united-states\n",
       "1   01000US  United States     2021  2021   329725481  united-states\n",
       "2   01000US  United States     2020  2020   326569308  united-states\n",
       "3   01000US  United States     2019  2019   324697795  united-states\n",
       "4   01000US  United States     2018  2018   322903030  united-states\n",
       "5   01000US  United States     2017  2017   321004407  united-states\n",
       "6   01000US  United States     2016  2016   318558162  united-states\n",
       "7   01000US  United States     2015  2015   316515021  united-states\n",
       "8   01000US  United States     2014  2014   314107084  united-states\n",
       "9   01000US  United States     2013  2013   311536594  united-states"
      ],
      "text/html": [
       "<div>\n",
       "<style scoped>\n",
       "    .dataframe tbody tr th:only-of-type {\n",
       "        vertical-align: middle;\n",
       "    }\n",
       "\n",
       "    .dataframe tbody tr th {\n",
       "        vertical-align: top;\n",
       "    }\n",
       "\n",
       "    .dataframe thead th {\n",
       "        text-align: right;\n",
       "    }\n",
       "</style>\n",
       "<table border=\"1\" class=\"dataframe\">\n",
       "  <thead>\n",
       "    <tr style=\"text-align: right;\">\n",
       "      <th></th>\n",
       "      <th>ID Nation</th>\n",
       "      <th>Nation</th>\n",
       "      <th>ID Year</th>\n",
       "      <th>Year</th>\n",
       "      <th>Population</th>\n",
       "      <th>Slug Nation</th>\n",
       "    </tr>\n",
       "  </thead>\n",
       "  <tbody>\n",
       "    <tr>\n",
       "      <th>0</th>\n",
       "      <td>01000US</td>\n",
       "      <td>United States</td>\n",
       "      <td>2022</td>\n",
       "      <td>2022</td>\n",
       "      <td>331097593</td>\n",
       "      <td>united-states</td>\n",
       "    </tr>\n",
       "    <tr>\n",
       "      <th>1</th>\n",
       "      <td>01000US</td>\n",
       "      <td>United States</td>\n",
       "      <td>2021</td>\n",
       "      <td>2021</td>\n",
       "      <td>329725481</td>\n",
       "      <td>united-states</td>\n",
       "    </tr>\n",
       "    <tr>\n",
       "      <th>2</th>\n",
       "      <td>01000US</td>\n",
       "      <td>United States</td>\n",
       "      <td>2020</td>\n",
       "      <td>2020</td>\n",
       "      <td>326569308</td>\n",
       "      <td>united-states</td>\n",
       "    </tr>\n",
       "    <tr>\n",
       "      <th>3</th>\n",
       "      <td>01000US</td>\n",
       "      <td>United States</td>\n",
       "      <td>2019</td>\n",
       "      <td>2019</td>\n",
       "      <td>324697795</td>\n",
       "      <td>united-states</td>\n",
       "    </tr>\n",
       "    <tr>\n",
       "      <th>4</th>\n",
       "      <td>01000US</td>\n",
       "      <td>United States</td>\n",
       "      <td>2018</td>\n",
       "      <td>2018</td>\n",
       "      <td>322903030</td>\n",
       "      <td>united-states</td>\n",
       "    </tr>\n",
       "    <tr>\n",
       "      <th>5</th>\n",
       "      <td>01000US</td>\n",
       "      <td>United States</td>\n",
       "      <td>2017</td>\n",
       "      <td>2017</td>\n",
       "      <td>321004407</td>\n",
       "      <td>united-states</td>\n",
       "    </tr>\n",
       "    <tr>\n",
       "      <th>6</th>\n",
       "      <td>01000US</td>\n",
       "      <td>United States</td>\n",
       "      <td>2016</td>\n",
       "      <td>2016</td>\n",
       "      <td>318558162</td>\n",
       "      <td>united-states</td>\n",
       "    </tr>\n",
       "    <tr>\n",
       "      <th>7</th>\n",
       "      <td>01000US</td>\n",
       "      <td>United States</td>\n",
       "      <td>2015</td>\n",
       "      <td>2015</td>\n",
       "      <td>316515021</td>\n",
       "      <td>united-states</td>\n",
       "    </tr>\n",
       "    <tr>\n",
       "      <th>8</th>\n",
       "      <td>01000US</td>\n",
       "      <td>United States</td>\n",
       "      <td>2014</td>\n",
       "      <td>2014</td>\n",
       "      <td>314107084</td>\n",
       "      <td>united-states</td>\n",
       "    </tr>\n",
       "    <tr>\n",
       "      <th>9</th>\n",
       "      <td>01000US</td>\n",
       "      <td>United States</td>\n",
       "      <td>2013</td>\n",
       "      <td>2013</td>\n",
       "      <td>311536594</td>\n",
       "      <td>united-states</td>\n",
       "    </tr>\n",
       "  </tbody>\n",
       "</table>\n",
       "</div>"
      ]
     },
     "execution_count": 6,
     "metadata": {},
     "output_type": "execute_result"
    }
   ],
   "execution_count": 6
  },
  {
   "metadata": {
    "ExecuteTime": {
     "end_time": "2025-02-14T01:02:49.519780Z",
     "start_time": "2025-02-14T01:02:49.504780Z"
    }
   },
   "cell_type": "code",
   "source": [
    "# Display df\n",
    "pr_data_df"
   ],
   "id": "49bc6c186911725c",
   "outputs": [
    {
     "data": {
      "text/plain": [
       "                       0     1       2             3               4\n",
       "0      series_id          year  period         value  footnote_codes\n",
       "1      PRS30006011        1995     Q01           2.6             NaN\n",
       "2      PRS30006011        1995     Q02           2.1             NaN\n",
       "3      PRS30006011        1995     Q03           0.9             NaN\n",
       "4      PRS30006011        1995     Q04           0.1             NaN\n",
       "...                  ...   ...     ...           ...             ...\n",
       "36647  PRS88003203        2023     Q04       115.334             NaN\n",
       "36648  PRS88003203        2023     Q05       115.509             NaN\n",
       "36649  PRS88003203        2024     Q01       116.936             NaN\n",
       "36650  PRS88003203        2024     Q02       116.544             NaN\n",
       "36651  PRS88003203        2024     Q03       116.657               R\n",
       "\n",
       "[36652 rows x 5 columns]"
      ],
      "text/html": [
       "<div>\n",
       "<style scoped>\n",
       "    .dataframe tbody tr th:only-of-type {\n",
       "        vertical-align: middle;\n",
       "    }\n",
       "\n",
       "    .dataframe tbody tr th {\n",
       "        vertical-align: top;\n",
       "    }\n",
       "\n",
       "    .dataframe thead th {\n",
       "        text-align: right;\n",
       "    }\n",
       "</style>\n",
       "<table border=\"1\" class=\"dataframe\">\n",
       "  <thead>\n",
       "    <tr style=\"text-align: right;\">\n",
       "      <th></th>\n",
       "      <th>0</th>\n",
       "      <th>1</th>\n",
       "      <th>2</th>\n",
       "      <th>3</th>\n",
       "      <th>4</th>\n",
       "    </tr>\n",
       "  </thead>\n",
       "  <tbody>\n",
       "    <tr>\n",
       "      <th>0</th>\n",
       "      <td>series_id</td>\n",
       "      <td>year</td>\n",
       "      <td>period</td>\n",
       "      <td>value</td>\n",
       "      <td>footnote_codes</td>\n",
       "    </tr>\n",
       "    <tr>\n",
       "      <th>1</th>\n",
       "      <td>PRS30006011</td>\n",
       "      <td>1995</td>\n",
       "      <td>Q01</td>\n",
       "      <td>2.6</td>\n",
       "      <td>NaN</td>\n",
       "    </tr>\n",
       "    <tr>\n",
       "      <th>2</th>\n",
       "      <td>PRS30006011</td>\n",
       "      <td>1995</td>\n",
       "      <td>Q02</td>\n",
       "      <td>2.1</td>\n",
       "      <td>NaN</td>\n",
       "    </tr>\n",
       "    <tr>\n",
       "      <th>3</th>\n",
       "      <td>PRS30006011</td>\n",
       "      <td>1995</td>\n",
       "      <td>Q03</td>\n",
       "      <td>0.9</td>\n",
       "      <td>NaN</td>\n",
       "    </tr>\n",
       "    <tr>\n",
       "      <th>4</th>\n",
       "      <td>PRS30006011</td>\n",
       "      <td>1995</td>\n",
       "      <td>Q04</td>\n",
       "      <td>0.1</td>\n",
       "      <td>NaN</td>\n",
       "    </tr>\n",
       "    <tr>\n",
       "      <th>...</th>\n",
       "      <td>...</td>\n",
       "      <td>...</td>\n",
       "      <td>...</td>\n",
       "      <td>...</td>\n",
       "      <td>...</td>\n",
       "    </tr>\n",
       "    <tr>\n",
       "      <th>36647</th>\n",
       "      <td>PRS88003203</td>\n",
       "      <td>2023</td>\n",
       "      <td>Q04</td>\n",
       "      <td>115.334</td>\n",
       "      <td>NaN</td>\n",
       "    </tr>\n",
       "    <tr>\n",
       "      <th>36648</th>\n",
       "      <td>PRS88003203</td>\n",
       "      <td>2023</td>\n",
       "      <td>Q05</td>\n",
       "      <td>115.509</td>\n",
       "      <td>NaN</td>\n",
       "    </tr>\n",
       "    <tr>\n",
       "      <th>36649</th>\n",
       "      <td>PRS88003203</td>\n",
       "      <td>2024</td>\n",
       "      <td>Q01</td>\n",
       "      <td>116.936</td>\n",
       "      <td>NaN</td>\n",
       "    </tr>\n",
       "    <tr>\n",
       "      <th>36650</th>\n",
       "      <td>PRS88003203</td>\n",
       "      <td>2024</td>\n",
       "      <td>Q02</td>\n",
       "      <td>116.544</td>\n",
       "      <td>NaN</td>\n",
       "    </tr>\n",
       "    <tr>\n",
       "      <th>36651</th>\n",
       "      <td>PRS88003203</td>\n",
       "      <td>2024</td>\n",
       "      <td>Q03</td>\n",
       "      <td>116.657</td>\n",
       "      <td>R</td>\n",
       "    </tr>\n",
       "  </tbody>\n",
       "</table>\n",
       "<p>36652 rows × 5 columns</p>\n",
       "</div>"
      ]
     },
     "execution_count": 7,
     "metadata": {},
     "output_type": "execute_result"
    }
   ],
   "execution_count": 7
  },
  {
   "metadata": {
    "ExecuteTime": {
     "end_time": "2025-02-14T01:02:49.564781Z",
     "start_time": "2025-02-14T01:02:49.550780Z"
    }
   },
   "cell_type": "code",
   "source": [
    "# Fix pr_data_df columns\n",
    "pr_data_df.columns = pr_data_df.iloc[0]\n",
    "pr_data_df = pr_data_df.drop(pr_data_df.index[0]).reset_index(drop=True)"
   ],
   "id": "e53239c8f8c35848",
   "outputs": [],
   "execution_count": 8
  },
  {
   "metadata": {
    "ExecuteTime": {
     "end_time": "2025-02-14T01:02:49.721780Z",
     "start_time": "2025-02-14T01:02:49.706779Z"
    }
   },
   "cell_type": "code",
   "source": [
    "# Display df\n",
    "pr_data_df"
   ],
   "id": "f706434c0e68e4a0",
   "outputs": [
    {
     "data": {
      "text/plain": [
       "0      series_id          year period         value footnote_codes\n",
       "0      PRS30006011        1995    Q01           2.6            NaN\n",
       "1      PRS30006011        1995    Q02           2.1            NaN\n",
       "2      PRS30006011        1995    Q03           0.9            NaN\n",
       "3      PRS30006011        1995    Q04           0.1            NaN\n",
       "4      PRS30006011        1995    Q05           1.4            NaN\n",
       "...                  ...   ...    ...           ...            ...\n",
       "36646  PRS88003203        2023    Q04       115.334            NaN\n",
       "36647  PRS88003203        2023    Q05       115.509            NaN\n",
       "36648  PRS88003203        2024    Q01       116.936            NaN\n",
       "36649  PRS88003203        2024    Q02       116.544            NaN\n",
       "36650  PRS88003203        2024    Q03       116.657              R\n",
       "\n",
       "[36651 rows x 5 columns]"
      ],
      "text/html": [
       "<div>\n",
       "<style scoped>\n",
       "    .dataframe tbody tr th:only-of-type {\n",
       "        vertical-align: middle;\n",
       "    }\n",
       "\n",
       "    .dataframe tbody tr th {\n",
       "        vertical-align: top;\n",
       "    }\n",
       "\n",
       "    .dataframe thead th {\n",
       "        text-align: right;\n",
       "    }\n",
       "</style>\n",
       "<table border=\"1\" class=\"dataframe\">\n",
       "  <thead>\n",
       "    <tr style=\"text-align: right;\">\n",
       "      <th></th>\n",
       "      <th>series_id</th>\n",
       "      <th>year</th>\n",
       "      <th>period</th>\n",
       "      <th>value</th>\n",
       "      <th>footnote_codes</th>\n",
       "    </tr>\n",
       "  </thead>\n",
       "  <tbody>\n",
       "    <tr>\n",
       "      <th>0</th>\n",
       "      <td>PRS30006011</td>\n",
       "      <td>1995</td>\n",
       "      <td>Q01</td>\n",
       "      <td>2.6</td>\n",
       "      <td>NaN</td>\n",
       "    </tr>\n",
       "    <tr>\n",
       "      <th>1</th>\n",
       "      <td>PRS30006011</td>\n",
       "      <td>1995</td>\n",
       "      <td>Q02</td>\n",
       "      <td>2.1</td>\n",
       "      <td>NaN</td>\n",
       "    </tr>\n",
       "    <tr>\n",
       "      <th>2</th>\n",
       "      <td>PRS30006011</td>\n",
       "      <td>1995</td>\n",
       "      <td>Q03</td>\n",
       "      <td>0.9</td>\n",
       "      <td>NaN</td>\n",
       "    </tr>\n",
       "    <tr>\n",
       "      <th>3</th>\n",
       "      <td>PRS30006011</td>\n",
       "      <td>1995</td>\n",
       "      <td>Q04</td>\n",
       "      <td>0.1</td>\n",
       "      <td>NaN</td>\n",
       "    </tr>\n",
       "    <tr>\n",
       "      <th>4</th>\n",
       "      <td>PRS30006011</td>\n",
       "      <td>1995</td>\n",
       "      <td>Q05</td>\n",
       "      <td>1.4</td>\n",
       "      <td>NaN</td>\n",
       "    </tr>\n",
       "    <tr>\n",
       "      <th>...</th>\n",
       "      <td>...</td>\n",
       "      <td>...</td>\n",
       "      <td>...</td>\n",
       "      <td>...</td>\n",
       "      <td>...</td>\n",
       "    </tr>\n",
       "    <tr>\n",
       "      <th>36646</th>\n",
       "      <td>PRS88003203</td>\n",
       "      <td>2023</td>\n",
       "      <td>Q04</td>\n",
       "      <td>115.334</td>\n",
       "      <td>NaN</td>\n",
       "    </tr>\n",
       "    <tr>\n",
       "      <th>36647</th>\n",
       "      <td>PRS88003203</td>\n",
       "      <td>2023</td>\n",
       "      <td>Q05</td>\n",
       "      <td>115.509</td>\n",
       "      <td>NaN</td>\n",
       "    </tr>\n",
       "    <tr>\n",
       "      <th>36648</th>\n",
       "      <td>PRS88003203</td>\n",
       "      <td>2024</td>\n",
       "      <td>Q01</td>\n",
       "      <td>116.936</td>\n",
       "      <td>NaN</td>\n",
       "    </tr>\n",
       "    <tr>\n",
       "      <th>36649</th>\n",
       "      <td>PRS88003203</td>\n",
       "      <td>2024</td>\n",
       "      <td>Q02</td>\n",
       "      <td>116.544</td>\n",
       "      <td>NaN</td>\n",
       "    </tr>\n",
       "    <tr>\n",
       "      <th>36650</th>\n",
       "      <td>PRS88003203</td>\n",
       "      <td>2024</td>\n",
       "      <td>Q03</td>\n",
       "      <td>116.657</td>\n",
       "      <td>R</td>\n",
       "    </tr>\n",
       "  </tbody>\n",
       "</table>\n",
       "<p>36651 rows × 5 columns</p>\n",
       "</div>"
      ]
     },
     "execution_count": 9,
     "metadata": {},
     "output_type": "execute_result"
    }
   ],
   "execution_count": 9
  },
  {
   "metadata": {},
   "cell_type": "markdown",
   "source": "Step 1",
   "id": "71cd3279113c1b3f"
  },
  {
   "metadata": {
    "ExecuteTime": {
     "end_time": "2025-02-14T01:02:49.783779Z",
     "start_time": "2025-02-14T01:02:49.770780Z"
    }
   },
   "cell_type": "code",
   "source": [
    "# Finding data types of columns\n",
    "api_pop_df.dtypes"
   ],
   "id": "2b4604bc5b56378f",
   "outputs": [
    {
     "data": {
      "text/plain": [
       "ID Nation      object\n",
       "Nation         object\n",
       "ID Year         int64\n",
       "Year           object\n",
       "Population      int64\n",
       "Slug Nation    object\n",
       "dtype: object"
      ]
     },
     "execution_count": 10,
     "metadata": {},
     "output_type": "execute_result"
    }
   ],
   "execution_count": 10
  },
  {
   "metadata": {
    "ExecuteTime": {
     "end_time": "2025-02-14T01:02:49.910778Z",
     "start_time": "2025-02-14T01:02:49.895778Z"
    }
   },
   "cell_type": "code",
   "source": [
    "# designing schema data types\n",
    "dtype_schema = {\n",
    "    'ID Nation': str,\n",
    "    'Nation': str,\n",
    "    'ID Year': int,\n",
    "    'Year': int,\n",
    "    'Population': int,\n",
    "    'Slug Nation': str\n",
    "}"
   ],
   "id": "afe145d1bc26293f",
   "outputs": [],
   "execution_count": 11
  },
  {
   "metadata": {
    "ExecuteTime": {
     "end_time": "2025-02-14T01:02:49.988780Z",
     "start_time": "2025-02-14T01:02:49.973781Z"
    }
   },
   "cell_type": "code",
   "source": [
    "# Applying data types\n",
    "api_pop_df = api_pop_df.astype(dtype_schema)"
   ],
   "id": "50db27b226611dd4",
   "outputs": [],
   "execution_count": 12
  },
  {
   "metadata": {
    "ExecuteTime": {
     "end_time": "2025-02-14T01:02:50.051779Z",
     "start_time": "2025-02-14T01:02:50.042780Z"
    }
   },
   "cell_type": "code",
   "source": [
    "# Creating subset of the api dataset\n",
    "api_mask = (api_pop_df['Year'] >= 2013) & (api_pop_df['Year'] <= 2018)\n",
    "api_pop_subset = api_pop_df[api_mask]"
   ],
   "id": "db7ef92ac8bec073",
   "outputs": [],
   "execution_count": 13
  },
  {
   "metadata": {
    "ExecuteTime": {
     "end_time": "2025-02-14T01:02:50.114779Z",
     "start_time": "2025-02-14T01:02:50.099780Z"
    }
   },
   "cell_type": "code",
   "source": [
    "# Reset index and drop old index row\n",
    "api_pop_subset = api_pop_subset.reset_index(drop=True)\n",
    "api_pop_subset"
   ],
   "id": "7635d056f5cab172",
   "outputs": [
    {
     "data": {
      "text/plain": [
       "  ID Nation         Nation  ID Year  Year  Population    Slug Nation\n",
       "0   01000US  United States     2018  2018   322903030  united-states\n",
       "1   01000US  United States     2017  2017   321004407  united-states\n",
       "2   01000US  United States     2016  2016   318558162  united-states\n",
       "3   01000US  United States     2015  2015   316515021  united-states\n",
       "4   01000US  United States     2014  2014   314107084  united-states\n",
       "5   01000US  United States     2013  2013   311536594  united-states"
      ],
      "text/html": [
       "<div>\n",
       "<style scoped>\n",
       "    .dataframe tbody tr th:only-of-type {\n",
       "        vertical-align: middle;\n",
       "    }\n",
       "\n",
       "    .dataframe tbody tr th {\n",
       "        vertical-align: top;\n",
       "    }\n",
       "\n",
       "    .dataframe thead th {\n",
       "        text-align: right;\n",
       "    }\n",
       "</style>\n",
       "<table border=\"1\" class=\"dataframe\">\n",
       "  <thead>\n",
       "    <tr style=\"text-align: right;\">\n",
       "      <th></th>\n",
       "      <th>ID Nation</th>\n",
       "      <th>Nation</th>\n",
       "      <th>ID Year</th>\n",
       "      <th>Year</th>\n",
       "      <th>Population</th>\n",
       "      <th>Slug Nation</th>\n",
       "    </tr>\n",
       "  </thead>\n",
       "  <tbody>\n",
       "    <tr>\n",
       "      <th>0</th>\n",
       "      <td>01000US</td>\n",
       "      <td>United States</td>\n",
       "      <td>2018</td>\n",
       "      <td>2018</td>\n",
       "      <td>322903030</td>\n",
       "      <td>united-states</td>\n",
       "    </tr>\n",
       "    <tr>\n",
       "      <th>1</th>\n",
       "      <td>01000US</td>\n",
       "      <td>United States</td>\n",
       "      <td>2017</td>\n",
       "      <td>2017</td>\n",
       "      <td>321004407</td>\n",
       "      <td>united-states</td>\n",
       "    </tr>\n",
       "    <tr>\n",
       "      <th>2</th>\n",
       "      <td>01000US</td>\n",
       "      <td>United States</td>\n",
       "      <td>2016</td>\n",
       "      <td>2016</td>\n",
       "      <td>318558162</td>\n",
       "      <td>united-states</td>\n",
       "    </tr>\n",
       "    <tr>\n",
       "      <th>3</th>\n",
       "      <td>01000US</td>\n",
       "      <td>United States</td>\n",
       "      <td>2015</td>\n",
       "      <td>2015</td>\n",
       "      <td>316515021</td>\n",
       "      <td>united-states</td>\n",
       "    </tr>\n",
       "    <tr>\n",
       "      <th>4</th>\n",
       "      <td>01000US</td>\n",
       "      <td>United States</td>\n",
       "      <td>2014</td>\n",
       "      <td>2014</td>\n",
       "      <td>314107084</td>\n",
       "      <td>united-states</td>\n",
       "    </tr>\n",
       "    <tr>\n",
       "      <th>5</th>\n",
       "      <td>01000US</td>\n",
       "      <td>United States</td>\n",
       "      <td>2013</td>\n",
       "      <td>2013</td>\n",
       "      <td>311536594</td>\n",
       "      <td>united-states</td>\n",
       "    </tr>\n",
       "  </tbody>\n",
       "</table>\n",
       "</div>"
      ]
     },
     "execution_count": 14,
     "metadata": {},
     "output_type": "execute_result"
    }
   ],
   "execution_count": 14
  },
  {
   "metadata": {
    "ExecuteTime": {
     "end_time": "2025-02-14T01:02:50.177779Z",
     "start_time": "2025-02-14T01:02:50.162780Z"
    }
   },
   "cell_type": "code",
   "source": [
    "# Calculate the Mean and Standard Deviation\n",
    "population_mean = api_pop_subset['Population'].mean()\n",
    "population_std = api_pop_subset['Population'].std()"
   ],
   "id": "1341704baa7b9bf4",
   "outputs": [],
   "execution_count": 15
  },
  {
   "metadata": {
    "ExecuteTime": {
     "end_time": "2025-02-14T01:02:50.240763Z",
     "start_time": "2025-02-14T01:02:50.225764Z"
    }
   },
   "cell_type": "code",
   "source": [
    "# Convert NumPy floats to Python floats\n",
    "population_mean = float(population_mean)\n",
    "population_std = float(population_std)"
   ],
   "id": "8caff574f8544726",
   "outputs": [],
   "execution_count": 16
  },
  {
   "metadata": {
    "ExecuteTime": {
     "end_time": "2025-02-14T01:02:50.270763Z",
     "start_time": "2025-02-14T01:02:50.260762Z"
    }
   },
   "cell_type": "code",
   "source": "population_mean",
   "id": "7317a22979e211bf",
   "outputs": [
    {
     "data": {
      "text/plain": [
       "317437383.0"
      ]
     },
     "execution_count": 17,
     "metadata": {},
     "output_type": "execute_result"
    }
   ],
   "execution_count": 17
  },
  {
   "metadata": {
    "ExecuteTime": {
     "end_time": "2025-02-14T01:02:50.332823Z",
     "start_time": "2025-02-14T01:02:50.318824Z"
    }
   },
   "cell_type": "code",
   "source": "population_std",
   "id": "82b7ace141cf5733",
   "outputs": [
    {
     "data": {
      "text/plain": [
       "4257089.5415293295"
      ]
     },
     "execution_count": 18,
     "metadata": {},
     "output_type": "execute_result"
    }
   ],
   "execution_count": 18
  },
  {
   "metadata": {},
   "cell_type": "markdown",
   "source": "Step 2",
   "id": "515e8cef52331561"
  },
  {
   "metadata": {
    "ExecuteTime": {
     "end_time": "2025-02-14T01:02:50.348823Z",
     "start_time": "2025-02-14T01:02:50.339826Z"
    }
   },
   "cell_type": "code",
   "source": [
    "# Display df\n",
    "pr_data_df"
   ],
   "id": "f7653d8c10fc73b1",
   "outputs": [
    {
     "data": {
      "text/plain": [
       "0      series_id          year period         value footnote_codes\n",
       "0      PRS30006011        1995    Q01           2.6            NaN\n",
       "1      PRS30006011        1995    Q02           2.1            NaN\n",
       "2      PRS30006011        1995    Q03           0.9            NaN\n",
       "3      PRS30006011        1995    Q04           0.1            NaN\n",
       "4      PRS30006011        1995    Q05           1.4            NaN\n",
       "...                  ...   ...    ...           ...            ...\n",
       "36646  PRS88003203        2023    Q04       115.334            NaN\n",
       "36647  PRS88003203        2023    Q05       115.509            NaN\n",
       "36648  PRS88003203        2024    Q01       116.936            NaN\n",
       "36649  PRS88003203        2024    Q02       116.544            NaN\n",
       "36650  PRS88003203        2024    Q03       116.657              R\n",
       "\n",
       "[36651 rows x 5 columns]"
      ],
      "text/html": [
       "<div>\n",
       "<style scoped>\n",
       "    .dataframe tbody tr th:only-of-type {\n",
       "        vertical-align: middle;\n",
       "    }\n",
       "\n",
       "    .dataframe tbody tr th {\n",
       "        vertical-align: top;\n",
       "    }\n",
       "\n",
       "    .dataframe thead th {\n",
       "        text-align: right;\n",
       "    }\n",
       "</style>\n",
       "<table border=\"1\" class=\"dataframe\">\n",
       "  <thead>\n",
       "    <tr style=\"text-align: right;\">\n",
       "      <th></th>\n",
       "      <th>series_id</th>\n",
       "      <th>year</th>\n",
       "      <th>period</th>\n",
       "      <th>value</th>\n",
       "      <th>footnote_codes</th>\n",
       "    </tr>\n",
       "  </thead>\n",
       "  <tbody>\n",
       "    <tr>\n",
       "      <th>0</th>\n",
       "      <td>PRS30006011</td>\n",
       "      <td>1995</td>\n",
       "      <td>Q01</td>\n",
       "      <td>2.6</td>\n",
       "      <td>NaN</td>\n",
       "    </tr>\n",
       "    <tr>\n",
       "      <th>1</th>\n",
       "      <td>PRS30006011</td>\n",
       "      <td>1995</td>\n",
       "      <td>Q02</td>\n",
       "      <td>2.1</td>\n",
       "      <td>NaN</td>\n",
       "    </tr>\n",
       "    <tr>\n",
       "      <th>2</th>\n",
       "      <td>PRS30006011</td>\n",
       "      <td>1995</td>\n",
       "      <td>Q03</td>\n",
       "      <td>0.9</td>\n",
       "      <td>NaN</td>\n",
       "    </tr>\n",
       "    <tr>\n",
       "      <th>3</th>\n",
       "      <td>PRS30006011</td>\n",
       "      <td>1995</td>\n",
       "      <td>Q04</td>\n",
       "      <td>0.1</td>\n",
       "      <td>NaN</td>\n",
       "    </tr>\n",
       "    <tr>\n",
       "      <th>4</th>\n",
       "      <td>PRS30006011</td>\n",
       "      <td>1995</td>\n",
       "      <td>Q05</td>\n",
       "      <td>1.4</td>\n",
       "      <td>NaN</td>\n",
       "    </tr>\n",
       "    <tr>\n",
       "      <th>...</th>\n",
       "      <td>...</td>\n",
       "      <td>...</td>\n",
       "      <td>...</td>\n",
       "      <td>...</td>\n",
       "      <td>...</td>\n",
       "    </tr>\n",
       "    <tr>\n",
       "      <th>36646</th>\n",
       "      <td>PRS88003203</td>\n",
       "      <td>2023</td>\n",
       "      <td>Q04</td>\n",
       "      <td>115.334</td>\n",
       "      <td>NaN</td>\n",
       "    </tr>\n",
       "    <tr>\n",
       "      <th>36647</th>\n",
       "      <td>PRS88003203</td>\n",
       "      <td>2023</td>\n",
       "      <td>Q05</td>\n",
       "      <td>115.509</td>\n",
       "      <td>NaN</td>\n",
       "    </tr>\n",
       "    <tr>\n",
       "      <th>36648</th>\n",
       "      <td>PRS88003203</td>\n",
       "      <td>2024</td>\n",
       "      <td>Q01</td>\n",
       "      <td>116.936</td>\n",
       "      <td>NaN</td>\n",
       "    </tr>\n",
       "    <tr>\n",
       "      <th>36649</th>\n",
       "      <td>PRS88003203</td>\n",
       "      <td>2024</td>\n",
       "      <td>Q02</td>\n",
       "      <td>116.544</td>\n",
       "      <td>NaN</td>\n",
       "    </tr>\n",
       "    <tr>\n",
       "      <th>36650</th>\n",
       "      <td>PRS88003203</td>\n",
       "      <td>2024</td>\n",
       "      <td>Q03</td>\n",
       "      <td>116.657</td>\n",
       "      <td>R</td>\n",
       "    </tr>\n",
       "  </tbody>\n",
       "</table>\n",
       "<p>36651 rows × 5 columns</p>\n",
       "</div>"
      ]
     },
     "execution_count": 19,
     "metadata": {},
     "output_type": "execute_result"
    }
   ],
   "execution_count": 19
  },
  {
   "metadata": {
    "ExecuteTime": {
     "end_time": "2025-02-14T01:02:50.411824Z",
     "start_time": "2025-02-14T01:02:50.397824Z"
    }
   },
   "cell_type": "code",
   "source": [
    "# Checking for inconsistency in columns\n",
    "pr_data_df.columns\n"
   ],
   "id": "8522bcf8c6784968",
   "outputs": [
    {
     "data": {
      "text/plain": [
       "Index(['series_id        ', 'year', 'period', '       value',\n",
       "       'footnote_codes'],\n",
       "      dtype='object', name=0)"
      ]
     },
     "execution_count": 20,
     "metadata": {},
     "output_type": "execute_result"
    }
   ],
   "execution_count": 20
  },
  {
   "metadata": {
    "ExecuteTime": {
     "end_time": "2025-02-14T01:02:50.458824Z",
     "start_time": "2025-02-14T01:02:50.443824Z"
    }
   },
   "cell_type": "code",
   "source": [
    "# Removing whitespace\n",
    "pr_data_df.columns = pr_data_df.columns.str.strip()"
   ],
   "id": "36aef41e698c1154",
   "outputs": [],
   "execution_count": 21
  },
  {
   "metadata": {
    "ExecuteTime": {
     "end_time": "2025-02-14T01:02:50.522825Z",
     "start_time": "2025-02-14T01:02:50.507824Z"
    }
   },
   "cell_type": "code",
   "source": [
    "# Checking if the columns are clean\n",
    "pr_data_df.columns"
   ],
   "id": "4963eb3ccb7a05f4",
   "outputs": [
    {
     "data": {
      "text/plain": [
       "Index(['series_id', 'year', 'period', 'value', 'footnote_codes'], dtype='object', name=0)"
      ]
     },
     "execution_count": 22,
     "metadata": {},
     "output_type": "execute_result"
    }
   ],
   "execution_count": 22
  },
  {
   "metadata": {
    "ExecuteTime": {
     "end_time": "2025-02-14T01:02:50.554825Z",
     "start_time": "2025-02-14T01:02:50.535825Z"
    }
   },
   "cell_type": "code",
   "source": [
    "# Checking data types of pr_data columns\n",
    "pr_data_df.dtypes"
   ],
   "id": "cd807c0a44340f84",
   "outputs": [
    {
     "data": {
      "text/plain": [
       "0\n",
       "series_id         object\n",
       "year              object\n",
       "period            object\n",
       "value             object\n",
       "footnote_codes    object\n",
       "dtype: object"
      ]
     },
     "execution_count": 23,
     "metadata": {},
     "output_type": "execute_result"
    }
   ],
   "execution_count": 23
  },
  {
   "metadata": {
    "ExecuteTime": {
     "end_time": "2025-02-14T01:02:50.618824Z",
     "start_time": "2025-02-14T01:02:50.603824Z"
    }
   },
   "cell_type": "code",
   "source": [
    "# Designing schema\n",
    "dtype_schema = {\n",
    "    'series_id': str,\n",
    "    'year': int,\n",
    "    'value': float,\n",
    "}"
   ],
   "id": "fd6ebc5967e0eb0e",
   "outputs": [],
   "execution_count": 24
  },
  {
   "metadata": {
    "ExecuteTime": {
     "end_time": "2025-02-14T01:02:50.715825Z",
     "start_time": "2025-02-14T01:02:50.704826Z"
    }
   },
   "cell_type": "code",
   "source": [
    "# Applying schema\n",
    "pr_data_df = pr_data_df.astype(dtype_schema)"
   ],
   "id": "4cc16a37178753a1",
   "outputs": [],
   "execution_count": 25
  },
  {
   "metadata": {
    "ExecuteTime": {
     "end_time": "2025-02-14T01:02:50.761825Z",
     "start_time": "2025-02-14T01:02:50.748824Z"
    }
   },
   "cell_type": "code",
   "source": "pr_data_df.dtypes",
   "id": "9b724cd0a4927faf",
   "outputs": [
    {
     "data": {
      "text/plain": [
       "0\n",
       "series_id          object\n",
       "year                int64\n",
       "period             object\n",
       "value             float64\n",
       "footnote_codes     object\n",
       "dtype: object"
      ]
     },
     "execution_count": 26,
     "metadata": {},
     "output_type": "execute_result"
    }
   ],
   "execution_count": 26
  },
  {
   "metadata": {
    "ExecuteTime": {
     "end_time": "2025-02-14T01:02:50.809825Z",
     "start_time": "2025-02-14T01:02:50.794824Z"
    }
   },
   "cell_type": "code",
   "source": [
    "# Display df\n",
    "pr_data_df"
   ],
   "id": "978092694fb35759",
   "outputs": [
    {
     "data": {
      "text/plain": [
       "0              series_id  year period    value footnote_codes\n",
       "0      PRS30006011        1995    Q01    2.600            NaN\n",
       "1      PRS30006011        1995    Q02    2.100            NaN\n",
       "2      PRS30006011        1995    Q03    0.900            NaN\n",
       "3      PRS30006011        1995    Q04    0.100            NaN\n",
       "4      PRS30006011        1995    Q05    1.400            NaN\n",
       "...                  ...   ...    ...      ...            ...\n",
       "36646  PRS88003203        2023    Q04  115.334            NaN\n",
       "36647  PRS88003203        2023    Q05  115.509            NaN\n",
       "36648  PRS88003203        2024    Q01  116.936            NaN\n",
       "36649  PRS88003203        2024    Q02  116.544            NaN\n",
       "36650  PRS88003203        2024    Q03  116.657              R\n",
       "\n",
       "[36651 rows x 5 columns]"
      ],
      "text/html": [
       "<div>\n",
       "<style scoped>\n",
       "    .dataframe tbody tr th:only-of-type {\n",
       "        vertical-align: middle;\n",
       "    }\n",
       "\n",
       "    .dataframe tbody tr th {\n",
       "        vertical-align: top;\n",
       "    }\n",
       "\n",
       "    .dataframe thead th {\n",
       "        text-align: right;\n",
       "    }\n",
       "</style>\n",
       "<table border=\"1\" class=\"dataframe\">\n",
       "  <thead>\n",
       "    <tr style=\"text-align: right;\">\n",
       "      <th></th>\n",
       "      <th>series_id</th>\n",
       "      <th>year</th>\n",
       "      <th>period</th>\n",
       "      <th>value</th>\n",
       "      <th>footnote_codes</th>\n",
       "    </tr>\n",
       "  </thead>\n",
       "  <tbody>\n",
       "    <tr>\n",
       "      <th>0</th>\n",
       "      <td>PRS30006011</td>\n",
       "      <td>1995</td>\n",
       "      <td>Q01</td>\n",
       "      <td>2.600</td>\n",
       "      <td>NaN</td>\n",
       "    </tr>\n",
       "    <tr>\n",
       "      <th>1</th>\n",
       "      <td>PRS30006011</td>\n",
       "      <td>1995</td>\n",
       "      <td>Q02</td>\n",
       "      <td>2.100</td>\n",
       "      <td>NaN</td>\n",
       "    </tr>\n",
       "    <tr>\n",
       "      <th>2</th>\n",
       "      <td>PRS30006011</td>\n",
       "      <td>1995</td>\n",
       "      <td>Q03</td>\n",
       "      <td>0.900</td>\n",
       "      <td>NaN</td>\n",
       "    </tr>\n",
       "    <tr>\n",
       "      <th>3</th>\n",
       "      <td>PRS30006011</td>\n",
       "      <td>1995</td>\n",
       "      <td>Q04</td>\n",
       "      <td>0.100</td>\n",
       "      <td>NaN</td>\n",
       "    </tr>\n",
       "    <tr>\n",
       "      <th>4</th>\n",
       "      <td>PRS30006011</td>\n",
       "      <td>1995</td>\n",
       "      <td>Q05</td>\n",
       "      <td>1.400</td>\n",
       "      <td>NaN</td>\n",
       "    </tr>\n",
       "    <tr>\n",
       "      <th>...</th>\n",
       "      <td>...</td>\n",
       "      <td>...</td>\n",
       "      <td>...</td>\n",
       "      <td>...</td>\n",
       "      <td>...</td>\n",
       "    </tr>\n",
       "    <tr>\n",
       "      <th>36646</th>\n",
       "      <td>PRS88003203</td>\n",
       "      <td>2023</td>\n",
       "      <td>Q04</td>\n",
       "      <td>115.334</td>\n",
       "      <td>NaN</td>\n",
       "    </tr>\n",
       "    <tr>\n",
       "      <th>36647</th>\n",
       "      <td>PRS88003203</td>\n",
       "      <td>2023</td>\n",
       "      <td>Q05</td>\n",
       "      <td>115.509</td>\n",
       "      <td>NaN</td>\n",
       "    </tr>\n",
       "    <tr>\n",
       "      <th>36648</th>\n",
       "      <td>PRS88003203</td>\n",
       "      <td>2024</td>\n",
       "      <td>Q01</td>\n",
       "      <td>116.936</td>\n",
       "      <td>NaN</td>\n",
       "    </tr>\n",
       "    <tr>\n",
       "      <th>36649</th>\n",
       "      <td>PRS88003203</td>\n",
       "      <td>2024</td>\n",
       "      <td>Q02</td>\n",
       "      <td>116.544</td>\n",
       "      <td>NaN</td>\n",
       "    </tr>\n",
       "    <tr>\n",
       "      <th>36650</th>\n",
       "      <td>PRS88003203</td>\n",
       "      <td>2024</td>\n",
       "      <td>Q03</td>\n",
       "      <td>116.657</td>\n",
       "      <td>R</td>\n",
       "    </tr>\n",
       "  </tbody>\n",
       "</table>\n",
       "<p>36651 rows × 5 columns</p>\n",
       "</div>"
      ]
     },
     "execution_count": 27,
     "metadata": {},
     "output_type": "execute_result"
    }
   ],
   "execution_count": 27
  },
  {
   "metadata": {
    "ExecuteTime": {
     "end_time": "2025-02-14T01:02:50.856824Z",
     "start_time": "2025-02-14T01:02:50.847825Z"
    }
   },
   "cell_type": "code",
   "source": [
    "# grouping series id and year to sum values within year\n",
    "pr_data_df_grouped = pr_data_df.groupby(['series_id', 'year'])['value'].sum()"
   ],
   "id": "ef494f4f0a541e78",
   "outputs": [],
   "execution_count": 28
  },
  {
   "metadata": {
    "ExecuteTime": {
     "end_time": "2025-02-14T01:02:50.952824Z",
     "start_time": "2025-02-14T01:02:50.937824Z"
    }
   },
   "cell_type": "code",
   "source": [
    "# Check to see if it worked\n",
    "pr_data_df_grouped"
   ],
   "id": "2e01b4662643d0dd",
   "outputs": [
    {
     "data": {
      "text/plain": [
       "series_id          year\n",
       "PRS30006011        1995      7.100\n",
       "                   1996     -0.500\n",
       "                   1997      4.400\n",
       "                   1998      4.200\n",
       "                   1999     -7.700\n",
       "                            ...   \n",
       "PRS88003203        2020    518.133\n",
       "                   2021    523.634\n",
       "                   2022    562.520\n",
       "                   2023    577.546\n",
       "                   2024    350.137\n",
       "Name: value, Length: 8325, dtype: float64"
      ]
     },
     "execution_count": 29,
     "metadata": {},
     "output_type": "execute_result"
    }
   ],
   "execution_count": 29
  },
  {
   "metadata": {
    "ExecuteTime": {
     "end_time": "2025-02-14T01:02:51.015824Z",
     "start_time": "2025-02-14T01:02:51.001824Z"
    }
   },
   "cell_type": "code",
   "source": [
    "# Reset the index\n",
    "pr_data_df_grouped = pr_data_df_grouped.reset_index()"
   ],
   "id": "6e90ba706e11e20c",
   "outputs": [],
   "execution_count": 30
  },
  {
   "metadata": {
    "ExecuteTime": {
     "end_time": "2025-02-14T01:02:51.095824Z",
     "start_time": "2025-02-14T01:02:51.080825Z"
    }
   },
   "cell_type": "code",
   "source": "pr_data_df_grouped",
   "id": "3760373ae1b60b85",
   "outputs": [
    {
     "data": {
      "text/plain": [
       "              series_id  year    value\n",
       "0     PRS30006011        1995    7.100\n",
       "1     PRS30006011        1996   -0.500\n",
       "2     PRS30006011        1997    4.400\n",
       "3     PRS30006011        1998    4.200\n",
       "4     PRS30006011        1999   -7.700\n",
       "...                 ...   ...      ...\n",
       "8320  PRS88003203        2020  518.133\n",
       "8321  PRS88003203        2021  523.634\n",
       "8322  PRS88003203        2022  562.520\n",
       "8323  PRS88003203        2023  577.546\n",
       "8324  PRS88003203        2024  350.137\n",
       "\n",
       "[8325 rows x 3 columns]"
      ],
      "text/html": [
       "<div>\n",
       "<style scoped>\n",
       "    .dataframe tbody tr th:only-of-type {\n",
       "        vertical-align: middle;\n",
       "    }\n",
       "\n",
       "    .dataframe tbody tr th {\n",
       "        vertical-align: top;\n",
       "    }\n",
       "\n",
       "    .dataframe thead th {\n",
       "        text-align: right;\n",
       "    }\n",
       "</style>\n",
       "<table border=\"1\" class=\"dataframe\">\n",
       "  <thead>\n",
       "    <tr style=\"text-align: right;\">\n",
       "      <th></th>\n",
       "      <th>series_id</th>\n",
       "      <th>year</th>\n",
       "      <th>value</th>\n",
       "    </tr>\n",
       "  </thead>\n",
       "  <tbody>\n",
       "    <tr>\n",
       "      <th>0</th>\n",
       "      <td>PRS30006011</td>\n",
       "      <td>1995</td>\n",
       "      <td>7.100</td>\n",
       "    </tr>\n",
       "    <tr>\n",
       "      <th>1</th>\n",
       "      <td>PRS30006011</td>\n",
       "      <td>1996</td>\n",
       "      <td>-0.500</td>\n",
       "    </tr>\n",
       "    <tr>\n",
       "      <th>2</th>\n",
       "      <td>PRS30006011</td>\n",
       "      <td>1997</td>\n",
       "      <td>4.400</td>\n",
       "    </tr>\n",
       "    <tr>\n",
       "      <th>3</th>\n",
       "      <td>PRS30006011</td>\n",
       "      <td>1998</td>\n",
       "      <td>4.200</td>\n",
       "    </tr>\n",
       "    <tr>\n",
       "      <th>4</th>\n",
       "      <td>PRS30006011</td>\n",
       "      <td>1999</td>\n",
       "      <td>-7.700</td>\n",
       "    </tr>\n",
       "    <tr>\n",
       "      <th>...</th>\n",
       "      <td>...</td>\n",
       "      <td>...</td>\n",
       "      <td>...</td>\n",
       "    </tr>\n",
       "    <tr>\n",
       "      <th>8320</th>\n",
       "      <td>PRS88003203</td>\n",
       "      <td>2020</td>\n",
       "      <td>518.133</td>\n",
       "    </tr>\n",
       "    <tr>\n",
       "      <th>8321</th>\n",
       "      <td>PRS88003203</td>\n",
       "      <td>2021</td>\n",
       "      <td>523.634</td>\n",
       "    </tr>\n",
       "    <tr>\n",
       "      <th>8322</th>\n",
       "      <td>PRS88003203</td>\n",
       "      <td>2022</td>\n",
       "      <td>562.520</td>\n",
       "    </tr>\n",
       "    <tr>\n",
       "      <th>8323</th>\n",
       "      <td>PRS88003203</td>\n",
       "      <td>2023</td>\n",
       "      <td>577.546</td>\n",
       "    </tr>\n",
       "    <tr>\n",
       "      <th>8324</th>\n",
       "      <td>PRS88003203</td>\n",
       "      <td>2024</td>\n",
       "      <td>350.137</td>\n",
       "    </tr>\n",
       "  </tbody>\n",
       "</table>\n",
       "<p>8325 rows × 3 columns</p>\n",
       "</div>"
      ]
     },
     "execution_count": 31,
     "metadata": {},
     "output_type": "execute_result"
    }
   ],
   "execution_count": 31
  },
  {
   "metadata": {
    "ExecuteTime": {
     "end_time": "2025-02-14T01:02:51.174823Z",
     "start_time": "2025-02-14T01:02:51.161824Z"
    }
   },
   "cell_type": "code",
   "source": [
    "# Mapping max value to each series if\n",
    "pr_data_df_grouped.groupby('series_id')['value'].transform('max')"
   ],
   "id": "447c36b2c652bfe7",
   "outputs": [
    {
     "data": {
      "text/plain": [
       "0        20.500\n",
       "1        20.500\n",
       "2        20.500\n",
       "3        20.500\n",
       "4        20.500\n",
       "         ...   \n",
       "8320    577.546\n",
       "8321    577.546\n",
       "8322    577.546\n",
       "8323    577.546\n",
       "8324    577.546\n",
       "Name: value, Length: 8325, dtype: float64"
      ]
     },
     "execution_count": 32,
     "metadata": {},
     "output_type": "execute_result"
    }
   ],
   "execution_count": 32
  },
  {
   "metadata": {
    "ExecuteTime": {
     "end_time": "2025-02-14T01:02:51.317338Z",
     "start_time": "2025-02-14T01:02:51.302337Z"
    }
   },
   "cell_type": "code",
   "source": [
    "# Actually applying the mapping\n",
    "transformed_pr_data = pr_data_df_grouped[\n",
    "    pr_data_df_grouped['value']\n",
    "    == pr_data_df_grouped.groupby('series_id')['value'].transform('max')\n",
    "]"
   ],
   "id": "cb885c52b967160d",
   "outputs": [],
   "execution_count": 33
  },
  {
   "metadata": {
    "ExecuteTime": {
     "end_time": "2025-02-14T01:02:51.444337Z",
     "start_time": "2025-02-14T01:02:51.429338Z"
    }
   },
   "cell_type": "code",
   "source": [
    "# Check to see if it worked\n",
    "transformed_pr_data"
   ],
   "id": "e406338d1bbcaeec",
   "outputs": [
    {
     "data": {
      "text/plain": [
       "              series_id  year    value\n",
       "27    PRS30006011        2022   20.500\n",
       "57    PRS30006012        2022   17.100\n",
       "63    PRS30006013        1998  704.125\n",
       "105   PRS30006021        2010   17.600\n",
       "135   PRS30006022        2010   12.500\n",
       "...                 ...   ...      ...\n",
       "8182  PRS88003192        2002  282.800\n",
       "8233  PRS88003193        2023  847.203\n",
       "8262  PRS88003201        2022   37.200\n",
       "8292  PRS88003202        2022   28.700\n",
       "8323  PRS88003203        2023  577.546\n",
       "\n",
       "[282 rows x 3 columns]"
      ],
      "text/html": [
       "<div>\n",
       "<style scoped>\n",
       "    .dataframe tbody tr th:only-of-type {\n",
       "        vertical-align: middle;\n",
       "    }\n",
       "\n",
       "    .dataframe tbody tr th {\n",
       "        vertical-align: top;\n",
       "    }\n",
       "\n",
       "    .dataframe thead th {\n",
       "        text-align: right;\n",
       "    }\n",
       "</style>\n",
       "<table border=\"1\" class=\"dataframe\">\n",
       "  <thead>\n",
       "    <tr style=\"text-align: right;\">\n",
       "      <th></th>\n",
       "      <th>series_id</th>\n",
       "      <th>year</th>\n",
       "      <th>value</th>\n",
       "    </tr>\n",
       "  </thead>\n",
       "  <tbody>\n",
       "    <tr>\n",
       "      <th>27</th>\n",
       "      <td>PRS30006011</td>\n",
       "      <td>2022</td>\n",
       "      <td>20.500</td>\n",
       "    </tr>\n",
       "    <tr>\n",
       "      <th>57</th>\n",
       "      <td>PRS30006012</td>\n",
       "      <td>2022</td>\n",
       "      <td>17.100</td>\n",
       "    </tr>\n",
       "    <tr>\n",
       "      <th>63</th>\n",
       "      <td>PRS30006013</td>\n",
       "      <td>1998</td>\n",
       "      <td>704.125</td>\n",
       "    </tr>\n",
       "    <tr>\n",
       "      <th>105</th>\n",
       "      <td>PRS30006021</td>\n",
       "      <td>2010</td>\n",
       "      <td>17.600</td>\n",
       "    </tr>\n",
       "    <tr>\n",
       "      <th>135</th>\n",
       "      <td>PRS30006022</td>\n",
       "      <td>2010</td>\n",
       "      <td>12.500</td>\n",
       "    </tr>\n",
       "    <tr>\n",
       "      <th>...</th>\n",
       "      <td>...</td>\n",
       "      <td>...</td>\n",
       "      <td>...</td>\n",
       "    </tr>\n",
       "    <tr>\n",
       "      <th>8182</th>\n",
       "      <td>PRS88003192</td>\n",
       "      <td>2002</td>\n",
       "      <td>282.800</td>\n",
       "    </tr>\n",
       "    <tr>\n",
       "      <th>8233</th>\n",
       "      <td>PRS88003193</td>\n",
       "      <td>2023</td>\n",
       "      <td>847.203</td>\n",
       "    </tr>\n",
       "    <tr>\n",
       "      <th>8262</th>\n",
       "      <td>PRS88003201</td>\n",
       "      <td>2022</td>\n",
       "      <td>37.200</td>\n",
       "    </tr>\n",
       "    <tr>\n",
       "      <th>8292</th>\n",
       "      <td>PRS88003202</td>\n",
       "      <td>2022</td>\n",
       "      <td>28.700</td>\n",
       "    </tr>\n",
       "    <tr>\n",
       "      <th>8323</th>\n",
       "      <td>PRS88003203</td>\n",
       "      <td>2023</td>\n",
       "      <td>577.546</td>\n",
       "    </tr>\n",
       "  </tbody>\n",
       "</table>\n",
       "<p>282 rows × 3 columns</p>\n",
       "</div>"
      ]
     },
     "execution_count": 34,
     "metadata": {},
     "output_type": "execute_result"
    }
   ],
   "execution_count": 34
  },
  {
   "metadata": {
    "ExecuteTime": {
     "end_time": "2025-02-14T01:02:51.540338Z",
     "start_time": "2025-02-14T01:02:51.525338Z"
    }
   },
   "cell_type": "code",
   "source": [
    "# Drop old index\n",
    "transformed_pr_data = transformed_pr_data.reset_index(drop=True)"
   ],
   "id": "a7ceb01e0dc55e55",
   "outputs": [],
   "execution_count": 35
  },
  {
   "metadata": {
    "ExecuteTime": {
     "end_time": "2025-02-14T01:07:09.493771Z",
     "start_time": "2025-02-14T01:07:09.478771Z"
    }
   },
   "cell_type": "code",
   "source": "transformed_pr_data['series_id'] = transformed_pr_data['series_id'].str.strip()",
   "id": "11ae1fb8758c28bb",
   "outputs": [],
   "execution_count": 58
  },
  {
   "metadata": {
    "ExecuteTime": {
     "end_time": "2025-02-14T01:11:48.666598Z",
     "start_time": "2025-02-14T01:11:48.655601Z"
    }
   },
   "cell_type": "code",
   "source": [
    "# Check\n",
    "transformed_pr_data"
   ],
   "id": "537b4030f99590d9",
   "outputs": [
    {
     "data": {
      "text/plain": [
       "       series_id  year    value\n",
       "0    PRS30006011  2022   20.500\n",
       "1    PRS30006012  2022   17.100\n",
       "2    PRS30006013  1998  704.125\n",
       "3    PRS30006021  2010   17.600\n",
       "4    PRS30006022  2010   12.500\n",
       "..           ...   ...      ...\n",
       "277  PRS88003192  2002  282.800\n",
       "278  PRS88003193  2023  847.203\n",
       "279  PRS88003201  2022   37.200\n",
       "280  PRS88003202  2022   28.700\n",
       "281  PRS88003203  2023  577.546\n",
       "\n",
       "[282 rows x 3 columns]"
      ],
      "text/html": [
       "<div>\n",
       "<style scoped>\n",
       "    .dataframe tbody tr th:only-of-type {\n",
       "        vertical-align: middle;\n",
       "    }\n",
       "\n",
       "    .dataframe tbody tr th {\n",
       "        vertical-align: top;\n",
       "    }\n",
       "\n",
       "    .dataframe thead th {\n",
       "        text-align: right;\n",
       "    }\n",
       "</style>\n",
       "<table border=\"1\" class=\"dataframe\">\n",
       "  <thead>\n",
       "    <tr style=\"text-align: right;\">\n",
       "      <th></th>\n",
       "      <th>series_id</th>\n",
       "      <th>year</th>\n",
       "      <th>value</th>\n",
       "    </tr>\n",
       "  </thead>\n",
       "  <tbody>\n",
       "    <tr>\n",
       "      <th>0</th>\n",
       "      <td>PRS30006011</td>\n",
       "      <td>2022</td>\n",
       "      <td>20.500</td>\n",
       "    </tr>\n",
       "    <tr>\n",
       "      <th>1</th>\n",
       "      <td>PRS30006012</td>\n",
       "      <td>2022</td>\n",
       "      <td>17.100</td>\n",
       "    </tr>\n",
       "    <tr>\n",
       "      <th>2</th>\n",
       "      <td>PRS30006013</td>\n",
       "      <td>1998</td>\n",
       "      <td>704.125</td>\n",
       "    </tr>\n",
       "    <tr>\n",
       "      <th>3</th>\n",
       "      <td>PRS30006021</td>\n",
       "      <td>2010</td>\n",
       "      <td>17.600</td>\n",
       "    </tr>\n",
       "    <tr>\n",
       "      <th>4</th>\n",
       "      <td>PRS30006022</td>\n",
       "      <td>2010</td>\n",
       "      <td>12.500</td>\n",
       "    </tr>\n",
       "    <tr>\n",
       "      <th>...</th>\n",
       "      <td>...</td>\n",
       "      <td>...</td>\n",
       "      <td>...</td>\n",
       "    </tr>\n",
       "    <tr>\n",
       "      <th>277</th>\n",
       "      <td>PRS88003192</td>\n",
       "      <td>2002</td>\n",
       "      <td>282.800</td>\n",
       "    </tr>\n",
       "    <tr>\n",
       "      <th>278</th>\n",
       "      <td>PRS88003193</td>\n",
       "      <td>2023</td>\n",
       "      <td>847.203</td>\n",
       "    </tr>\n",
       "    <tr>\n",
       "      <th>279</th>\n",
       "      <td>PRS88003201</td>\n",
       "      <td>2022</td>\n",
       "      <td>37.200</td>\n",
       "    </tr>\n",
       "    <tr>\n",
       "      <th>280</th>\n",
       "      <td>PRS88003202</td>\n",
       "      <td>2022</td>\n",
       "      <td>28.700</td>\n",
       "    </tr>\n",
       "    <tr>\n",
       "      <th>281</th>\n",
       "      <td>PRS88003203</td>\n",
       "      <td>2023</td>\n",
       "      <td>577.546</td>\n",
       "    </tr>\n",
       "  </tbody>\n",
       "</table>\n",
       "<p>282 rows × 3 columns</p>\n",
       "</div>"
      ]
     },
     "execution_count": 65,
     "metadata": {},
     "output_type": "execute_result"
    }
   ],
   "execution_count": 65
  },
  {
   "metadata": {},
   "cell_type": "markdown",
   "source": "Part 3",
   "id": "7f007d70b91328cb"
  },
  {
   "metadata": {
    "ExecuteTime": {
     "end_time": "2025-02-14T01:02:51.696337Z",
     "start_time": "2025-02-14T01:02:51.681338Z"
    }
   },
   "cell_type": "code",
   "source": [
    "# Check to see what I'm working with again\n",
    "pr_data_df"
   ],
   "id": "3e08e8466429ed43",
   "outputs": [
    {
     "data": {
      "text/plain": [
       "0              series_id  year period    value footnote_codes\n",
       "0      PRS30006011        1995    Q01    2.600            NaN\n",
       "1      PRS30006011        1995    Q02    2.100            NaN\n",
       "2      PRS30006011        1995    Q03    0.900            NaN\n",
       "3      PRS30006011        1995    Q04    0.100            NaN\n",
       "4      PRS30006011        1995    Q05    1.400            NaN\n",
       "...                  ...   ...    ...      ...            ...\n",
       "36646  PRS88003203        2023    Q04  115.334            NaN\n",
       "36647  PRS88003203        2023    Q05  115.509            NaN\n",
       "36648  PRS88003203        2024    Q01  116.936            NaN\n",
       "36649  PRS88003203        2024    Q02  116.544            NaN\n",
       "36650  PRS88003203        2024    Q03  116.657              R\n",
       "\n",
       "[36651 rows x 5 columns]"
      ],
      "text/html": [
       "<div>\n",
       "<style scoped>\n",
       "    .dataframe tbody tr th:only-of-type {\n",
       "        vertical-align: middle;\n",
       "    }\n",
       "\n",
       "    .dataframe tbody tr th {\n",
       "        vertical-align: top;\n",
       "    }\n",
       "\n",
       "    .dataframe thead th {\n",
       "        text-align: right;\n",
       "    }\n",
       "</style>\n",
       "<table border=\"1\" class=\"dataframe\">\n",
       "  <thead>\n",
       "    <tr style=\"text-align: right;\">\n",
       "      <th></th>\n",
       "      <th>series_id</th>\n",
       "      <th>year</th>\n",
       "      <th>period</th>\n",
       "      <th>value</th>\n",
       "      <th>footnote_codes</th>\n",
       "    </tr>\n",
       "  </thead>\n",
       "  <tbody>\n",
       "    <tr>\n",
       "      <th>0</th>\n",
       "      <td>PRS30006011</td>\n",
       "      <td>1995</td>\n",
       "      <td>Q01</td>\n",
       "      <td>2.600</td>\n",
       "      <td>NaN</td>\n",
       "    </tr>\n",
       "    <tr>\n",
       "      <th>1</th>\n",
       "      <td>PRS30006011</td>\n",
       "      <td>1995</td>\n",
       "      <td>Q02</td>\n",
       "      <td>2.100</td>\n",
       "      <td>NaN</td>\n",
       "    </tr>\n",
       "    <tr>\n",
       "      <th>2</th>\n",
       "      <td>PRS30006011</td>\n",
       "      <td>1995</td>\n",
       "      <td>Q03</td>\n",
       "      <td>0.900</td>\n",
       "      <td>NaN</td>\n",
       "    </tr>\n",
       "    <tr>\n",
       "      <th>3</th>\n",
       "      <td>PRS30006011</td>\n",
       "      <td>1995</td>\n",
       "      <td>Q04</td>\n",
       "      <td>0.100</td>\n",
       "      <td>NaN</td>\n",
       "    </tr>\n",
       "    <tr>\n",
       "      <th>4</th>\n",
       "      <td>PRS30006011</td>\n",
       "      <td>1995</td>\n",
       "      <td>Q05</td>\n",
       "      <td>1.400</td>\n",
       "      <td>NaN</td>\n",
       "    </tr>\n",
       "    <tr>\n",
       "      <th>...</th>\n",
       "      <td>...</td>\n",
       "      <td>...</td>\n",
       "      <td>...</td>\n",
       "      <td>...</td>\n",
       "      <td>...</td>\n",
       "    </tr>\n",
       "    <tr>\n",
       "      <th>36646</th>\n",
       "      <td>PRS88003203</td>\n",
       "      <td>2023</td>\n",
       "      <td>Q04</td>\n",
       "      <td>115.334</td>\n",
       "      <td>NaN</td>\n",
       "    </tr>\n",
       "    <tr>\n",
       "      <th>36647</th>\n",
       "      <td>PRS88003203</td>\n",
       "      <td>2023</td>\n",
       "      <td>Q05</td>\n",
       "      <td>115.509</td>\n",
       "      <td>NaN</td>\n",
       "    </tr>\n",
       "    <tr>\n",
       "      <th>36648</th>\n",
       "      <td>PRS88003203</td>\n",
       "      <td>2024</td>\n",
       "      <td>Q01</td>\n",
       "      <td>116.936</td>\n",
       "      <td>NaN</td>\n",
       "    </tr>\n",
       "    <tr>\n",
       "      <th>36649</th>\n",
       "      <td>PRS88003203</td>\n",
       "      <td>2024</td>\n",
       "      <td>Q02</td>\n",
       "      <td>116.544</td>\n",
       "      <td>NaN</td>\n",
       "    </tr>\n",
       "    <tr>\n",
       "      <th>36650</th>\n",
       "      <td>PRS88003203</td>\n",
       "      <td>2024</td>\n",
       "      <td>Q03</td>\n",
       "      <td>116.657</td>\n",
       "      <td>R</td>\n",
       "    </tr>\n",
       "  </tbody>\n",
       "</table>\n",
       "<p>36651 rows × 5 columns</p>\n",
       "</div>"
      ]
     },
     "execution_count": 37,
     "metadata": {},
     "output_type": "execute_result"
    }
   ],
   "execution_count": 37
  },
  {
   "metadata": {
    "ExecuteTime": {
     "end_time": "2025-02-14T01:02:51.775337Z",
     "start_time": "2025-02-14T01:02:51.758338Z"
    }
   },
   "cell_type": "code",
   "source": [
    "# Check to see what I'm working with again\n",
    "api_pop_df"
   ],
   "id": "136c4dddbcec5780",
   "outputs": [
    {
     "data": {
      "text/plain": [
       "  ID Nation         Nation  ID Year  Year  Population    Slug Nation\n",
       "0   01000US  United States     2022  2022   331097593  united-states\n",
       "1   01000US  United States     2021  2021   329725481  united-states\n",
       "2   01000US  United States     2020  2020   326569308  united-states\n",
       "3   01000US  United States     2019  2019   324697795  united-states\n",
       "4   01000US  United States     2018  2018   322903030  united-states\n",
       "5   01000US  United States     2017  2017   321004407  united-states\n",
       "6   01000US  United States     2016  2016   318558162  united-states\n",
       "7   01000US  United States     2015  2015   316515021  united-states\n",
       "8   01000US  United States     2014  2014   314107084  united-states\n",
       "9   01000US  United States     2013  2013   311536594  united-states"
      ],
      "text/html": [
       "<div>\n",
       "<style scoped>\n",
       "    .dataframe tbody tr th:only-of-type {\n",
       "        vertical-align: middle;\n",
       "    }\n",
       "\n",
       "    .dataframe tbody tr th {\n",
       "        vertical-align: top;\n",
       "    }\n",
       "\n",
       "    .dataframe thead th {\n",
       "        text-align: right;\n",
       "    }\n",
       "</style>\n",
       "<table border=\"1\" class=\"dataframe\">\n",
       "  <thead>\n",
       "    <tr style=\"text-align: right;\">\n",
       "      <th></th>\n",
       "      <th>ID Nation</th>\n",
       "      <th>Nation</th>\n",
       "      <th>ID Year</th>\n",
       "      <th>Year</th>\n",
       "      <th>Population</th>\n",
       "      <th>Slug Nation</th>\n",
       "    </tr>\n",
       "  </thead>\n",
       "  <tbody>\n",
       "    <tr>\n",
       "      <th>0</th>\n",
       "      <td>01000US</td>\n",
       "      <td>United States</td>\n",
       "      <td>2022</td>\n",
       "      <td>2022</td>\n",
       "      <td>331097593</td>\n",
       "      <td>united-states</td>\n",
       "    </tr>\n",
       "    <tr>\n",
       "      <th>1</th>\n",
       "      <td>01000US</td>\n",
       "      <td>United States</td>\n",
       "      <td>2021</td>\n",
       "      <td>2021</td>\n",
       "      <td>329725481</td>\n",
       "      <td>united-states</td>\n",
       "    </tr>\n",
       "    <tr>\n",
       "      <th>2</th>\n",
       "      <td>01000US</td>\n",
       "      <td>United States</td>\n",
       "      <td>2020</td>\n",
       "      <td>2020</td>\n",
       "      <td>326569308</td>\n",
       "      <td>united-states</td>\n",
       "    </tr>\n",
       "    <tr>\n",
       "      <th>3</th>\n",
       "      <td>01000US</td>\n",
       "      <td>United States</td>\n",
       "      <td>2019</td>\n",
       "      <td>2019</td>\n",
       "      <td>324697795</td>\n",
       "      <td>united-states</td>\n",
       "    </tr>\n",
       "    <tr>\n",
       "      <th>4</th>\n",
       "      <td>01000US</td>\n",
       "      <td>United States</td>\n",
       "      <td>2018</td>\n",
       "      <td>2018</td>\n",
       "      <td>322903030</td>\n",
       "      <td>united-states</td>\n",
       "    </tr>\n",
       "    <tr>\n",
       "      <th>5</th>\n",
       "      <td>01000US</td>\n",
       "      <td>United States</td>\n",
       "      <td>2017</td>\n",
       "      <td>2017</td>\n",
       "      <td>321004407</td>\n",
       "      <td>united-states</td>\n",
       "    </tr>\n",
       "    <tr>\n",
       "      <th>6</th>\n",
       "      <td>01000US</td>\n",
       "      <td>United States</td>\n",
       "      <td>2016</td>\n",
       "      <td>2016</td>\n",
       "      <td>318558162</td>\n",
       "      <td>united-states</td>\n",
       "    </tr>\n",
       "    <tr>\n",
       "      <th>7</th>\n",
       "      <td>01000US</td>\n",
       "      <td>United States</td>\n",
       "      <td>2015</td>\n",
       "      <td>2015</td>\n",
       "      <td>316515021</td>\n",
       "      <td>united-states</td>\n",
       "    </tr>\n",
       "    <tr>\n",
       "      <th>8</th>\n",
       "      <td>01000US</td>\n",
       "      <td>United States</td>\n",
       "      <td>2014</td>\n",
       "      <td>2014</td>\n",
       "      <td>314107084</td>\n",
       "      <td>united-states</td>\n",
       "    </tr>\n",
       "    <tr>\n",
       "      <th>9</th>\n",
       "      <td>01000US</td>\n",
       "      <td>United States</td>\n",
       "      <td>2013</td>\n",
       "      <td>2013</td>\n",
       "      <td>311536594</td>\n",
       "      <td>united-states</td>\n",
       "    </tr>\n",
       "  </tbody>\n",
       "</table>\n",
       "</div>"
      ]
     },
     "execution_count": 38,
     "metadata": {},
     "output_type": "execute_result"
    }
   ],
   "execution_count": 38
  },
  {
   "metadata": {
    "ExecuteTime": {
     "end_time": "2025-02-14T01:02:51.932337Z",
     "start_time": "2025-02-14T01:02:51.917337Z"
    }
   },
   "cell_type": "code",
   "source": "pr_data_df.dtypes",
   "id": "5c6b49087a5938f3",
   "outputs": [
    {
     "data": {
      "text/plain": [
       "0\n",
       "series_id          object\n",
       "year                int64\n",
       "period             object\n",
       "value             float64\n",
       "footnote_codes     object\n",
       "dtype: object"
      ]
     },
     "execution_count": 39,
     "metadata": {},
     "output_type": "execute_result"
    }
   ],
   "execution_count": 39
  },
  {
   "metadata": {
    "ExecuteTime": {
     "end_time": "2025-02-14T01:02:52.026337Z",
     "start_time": "2025-02-14T01:02:52.011337Z"
    }
   },
   "cell_type": "code",
   "source": "combined_df = pr_data_df[['series_id', 'year', 'period', 'value']]",
   "id": "3603c94fc70d5f48",
   "outputs": [],
   "execution_count": 40
  },
  {
   "metadata": {
    "ExecuteTime": {
     "end_time": "2025-02-14T01:02:52.122336Z",
     "start_time": "2025-02-14T01:02:52.117337Z"
    }
   },
   "cell_type": "code",
   "source": "",
   "id": "97c0d86bcff8cd15",
   "outputs": [],
   "execution_count": null
  },
  {
   "metadata": {
    "ExecuteTime": {
     "end_time": "2025-02-14T01:02:52.169337Z",
     "start_time": "2025-02-14T01:02:52.155338Z"
    }
   },
   "cell_type": "code",
   "source": [
    "# Joining the tables and only keeping population\n",
    "combined_df = combined_df.merge(\n",
    "    api_pop_df[[\"Year\", \"Population\"]],\n",
    "    how=\"left\",\n",
    "    left_on=\"year\",\n",
    "    right_on=\"Year\"\n",
    ").drop(columns=[\"Year\"])"
   ],
   "id": "8111995e7b0a0967",
   "outputs": [],
   "execution_count": 41
  },
  {
   "metadata": {
    "ExecuteTime": {
     "end_time": "2025-02-14T01:02:52.247336Z",
     "start_time": "2025-02-14T01:02:52.233338Z"
    }
   },
   "cell_type": "code",
   "source": "combined_df",
   "id": "58f39ea2d75eab44",
   "outputs": [
    {
     "data": {
      "text/plain": [
       "               series_id  year period    value  Population\n",
       "0      PRS30006011        1995    Q01    2.600         NaN\n",
       "1      PRS30006011        1995    Q02    2.100         NaN\n",
       "2      PRS30006011        1995    Q03    0.900         NaN\n",
       "3      PRS30006011        1995    Q04    0.100         NaN\n",
       "4      PRS30006011        1995    Q05    1.400         NaN\n",
       "...                  ...   ...    ...      ...         ...\n",
       "36646  PRS88003203        2023    Q04  115.334         NaN\n",
       "36647  PRS88003203        2023    Q05  115.509         NaN\n",
       "36648  PRS88003203        2024    Q01  116.936         NaN\n",
       "36649  PRS88003203        2024    Q02  116.544         NaN\n",
       "36650  PRS88003203        2024    Q03  116.657         NaN\n",
       "\n",
       "[36651 rows x 5 columns]"
      ],
      "text/html": [
       "<div>\n",
       "<style scoped>\n",
       "    .dataframe tbody tr th:only-of-type {\n",
       "        vertical-align: middle;\n",
       "    }\n",
       "\n",
       "    .dataframe tbody tr th {\n",
       "        vertical-align: top;\n",
       "    }\n",
       "\n",
       "    .dataframe thead th {\n",
       "        text-align: right;\n",
       "    }\n",
       "</style>\n",
       "<table border=\"1\" class=\"dataframe\">\n",
       "  <thead>\n",
       "    <tr style=\"text-align: right;\">\n",
       "      <th></th>\n",
       "      <th>series_id</th>\n",
       "      <th>year</th>\n",
       "      <th>period</th>\n",
       "      <th>value</th>\n",
       "      <th>Population</th>\n",
       "    </tr>\n",
       "  </thead>\n",
       "  <tbody>\n",
       "    <tr>\n",
       "      <th>0</th>\n",
       "      <td>PRS30006011</td>\n",
       "      <td>1995</td>\n",
       "      <td>Q01</td>\n",
       "      <td>2.600</td>\n",
       "      <td>NaN</td>\n",
       "    </tr>\n",
       "    <tr>\n",
       "      <th>1</th>\n",
       "      <td>PRS30006011</td>\n",
       "      <td>1995</td>\n",
       "      <td>Q02</td>\n",
       "      <td>2.100</td>\n",
       "      <td>NaN</td>\n",
       "    </tr>\n",
       "    <tr>\n",
       "      <th>2</th>\n",
       "      <td>PRS30006011</td>\n",
       "      <td>1995</td>\n",
       "      <td>Q03</td>\n",
       "      <td>0.900</td>\n",
       "      <td>NaN</td>\n",
       "    </tr>\n",
       "    <tr>\n",
       "      <th>3</th>\n",
       "      <td>PRS30006011</td>\n",
       "      <td>1995</td>\n",
       "      <td>Q04</td>\n",
       "      <td>0.100</td>\n",
       "      <td>NaN</td>\n",
       "    </tr>\n",
       "    <tr>\n",
       "      <th>4</th>\n",
       "      <td>PRS30006011</td>\n",
       "      <td>1995</td>\n",
       "      <td>Q05</td>\n",
       "      <td>1.400</td>\n",
       "      <td>NaN</td>\n",
       "    </tr>\n",
       "    <tr>\n",
       "      <th>...</th>\n",
       "      <td>...</td>\n",
       "      <td>...</td>\n",
       "      <td>...</td>\n",
       "      <td>...</td>\n",
       "      <td>...</td>\n",
       "    </tr>\n",
       "    <tr>\n",
       "      <th>36646</th>\n",
       "      <td>PRS88003203</td>\n",
       "      <td>2023</td>\n",
       "      <td>Q04</td>\n",
       "      <td>115.334</td>\n",
       "      <td>NaN</td>\n",
       "    </tr>\n",
       "    <tr>\n",
       "      <th>36647</th>\n",
       "      <td>PRS88003203</td>\n",
       "      <td>2023</td>\n",
       "      <td>Q05</td>\n",
       "      <td>115.509</td>\n",
       "      <td>NaN</td>\n",
       "    </tr>\n",
       "    <tr>\n",
       "      <th>36648</th>\n",
       "      <td>PRS88003203</td>\n",
       "      <td>2024</td>\n",
       "      <td>Q01</td>\n",
       "      <td>116.936</td>\n",
       "      <td>NaN</td>\n",
       "    </tr>\n",
       "    <tr>\n",
       "      <th>36649</th>\n",
       "      <td>PRS88003203</td>\n",
       "      <td>2024</td>\n",
       "      <td>Q02</td>\n",
       "      <td>116.544</td>\n",
       "      <td>NaN</td>\n",
       "    </tr>\n",
       "    <tr>\n",
       "      <th>36650</th>\n",
       "      <td>PRS88003203</td>\n",
       "      <td>2024</td>\n",
       "      <td>Q03</td>\n",
       "      <td>116.657</td>\n",
       "      <td>NaN</td>\n",
       "    </tr>\n",
       "  </tbody>\n",
       "</table>\n",
       "<p>36651 rows × 5 columns</p>\n",
       "</div>"
      ]
     },
     "execution_count": 42,
     "metadata": {},
     "output_type": "execute_result"
    }
   ],
   "execution_count": 42
  },
  {
   "metadata": {
    "ExecuteTime": {
     "end_time": "2025-02-14T01:02:52.308631Z",
     "start_time": "2025-02-14T01:02:52.293632Z"
    }
   },
   "cell_type": "code",
   "source": [
    "# The Population dtype is a float, I'm replacing NaN with 0 so I can convert column to int\n",
    "combined_df[\"Population\"] = combined_df[\"Population\"].fillna(0)\n",
    "combined_df[\"Population\"] = combined_df[\"Population\"].astype(int)"
   ],
   "id": "df5499565e8407a9",
   "outputs": [],
   "execution_count": 43
  },
  {
   "metadata": {
    "ExecuteTime": {
     "end_time": "2025-02-14T01:02:52.386632Z",
     "start_time": "2025-02-14T01:02:52.371632Z"
    }
   },
   "cell_type": "code",
   "source": [
    "# Final Check\n",
    "combined_df"
   ],
   "id": "de17e2b828261899",
   "outputs": [
    {
     "data": {
      "text/plain": [
       "               series_id  year period    value  Population\n",
       "0      PRS30006011        1995    Q01    2.600           0\n",
       "1      PRS30006011        1995    Q02    2.100           0\n",
       "2      PRS30006011        1995    Q03    0.900           0\n",
       "3      PRS30006011        1995    Q04    0.100           0\n",
       "4      PRS30006011        1995    Q05    1.400           0\n",
       "...                  ...   ...    ...      ...         ...\n",
       "36646  PRS88003203        2023    Q04  115.334           0\n",
       "36647  PRS88003203        2023    Q05  115.509           0\n",
       "36648  PRS88003203        2024    Q01  116.936           0\n",
       "36649  PRS88003203        2024    Q02  116.544           0\n",
       "36650  PRS88003203        2024    Q03  116.657           0\n",
       "\n",
       "[36651 rows x 5 columns]"
      ],
      "text/html": [
       "<div>\n",
       "<style scoped>\n",
       "    .dataframe tbody tr th:only-of-type {\n",
       "        vertical-align: middle;\n",
       "    }\n",
       "\n",
       "    .dataframe tbody tr th {\n",
       "        vertical-align: top;\n",
       "    }\n",
       "\n",
       "    .dataframe thead th {\n",
       "        text-align: right;\n",
       "    }\n",
       "</style>\n",
       "<table border=\"1\" class=\"dataframe\">\n",
       "  <thead>\n",
       "    <tr style=\"text-align: right;\">\n",
       "      <th></th>\n",
       "      <th>series_id</th>\n",
       "      <th>year</th>\n",
       "      <th>period</th>\n",
       "      <th>value</th>\n",
       "      <th>Population</th>\n",
       "    </tr>\n",
       "  </thead>\n",
       "  <tbody>\n",
       "    <tr>\n",
       "      <th>0</th>\n",
       "      <td>PRS30006011</td>\n",
       "      <td>1995</td>\n",
       "      <td>Q01</td>\n",
       "      <td>2.600</td>\n",
       "      <td>0</td>\n",
       "    </tr>\n",
       "    <tr>\n",
       "      <th>1</th>\n",
       "      <td>PRS30006011</td>\n",
       "      <td>1995</td>\n",
       "      <td>Q02</td>\n",
       "      <td>2.100</td>\n",
       "      <td>0</td>\n",
       "    </tr>\n",
       "    <tr>\n",
       "      <th>2</th>\n",
       "      <td>PRS30006011</td>\n",
       "      <td>1995</td>\n",
       "      <td>Q03</td>\n",
       "      <td>0.900</td>\n",
       "      <td>0</td>\n",
       "    </tr>\n",
       "    <tr>\n",
       "      <th>3</th>\n",
       "      <td>PRS30006011</td>\n",
       "      <td>1995</td>\n",
       "      <td>Q04</td>\n",
       "      <td>0.100</td>\n",
       "      <td>0</td>\n",
       "    </tr>\n",
       "    <tr>\n",
       "      <th>4</th>\n",
       "      <td>PRS30006011</td>\n",
       "      <td>1995</td>\n",
       "      <td>Q05</td>\n",
       "      <td>1.400</td>\n",
       "      <td>0</td>\n",
       "    </tr>\n",
       "    <tr>\n",
       "      <th>...</th>\n",
       "      <td>...</td>\n",
       "      <td>...</td>\n",
       "      <td>...</td>\n",
       "      <td>...</td>\n",
       "      <td>...</td>\n",
       "    </tr>\n",
       "    <tr>\n",
       "      <th>36646</th>\n",
       "      <td>PRS88003203</td>\n",
       "      <td>2023</td>\n",
       "      <td>Q04</td>\n",
       "      <td>115.334</td>\n",
       "      <td>0</td>\n",
       "    </tr>\n",
       "    <tr>\n",
       "      <th>36647</th>\n",
       "      <td>PRS88003203</td>\n",
       "      <td>2023</td>\n",
       "      <td>Q05</td>\n",
       "      <td>115.509</td>\n",
       "      <td>0</td>\n",
       "    </tr>\n",
       "    <tr>\n",
       "      <th>36648</th>\n",
       "      <td>PRS88003203</td>\n",
       "      <td>2024</td>\n",
       "      <td>Q01</td>\n",
       "      <td>116.936</td>\n",
       "      <td>0</td>\n",
       "    </tr>\n",
       "    <tr>\n",
       "      <th>36649</th>\n",
       "      <td>PRS88003203</td>\n",
       "      <td>2024</td>\n",
       "      <td>Q02</td>\n",
       "      <td>116.544</td>\n",
       "      <td>0</td>\n",
       "    </tr>\n",
       "    <tr>\n",
       "      <th>36650</th>\n",
       "      <td>PRS88003203</td>\n",
       "      <td>2024</td>\n",
       "      <td>Q03</td>\n",
       "      <td>116.657</td>\n",
       "      <td>0</td>\n",
       "    </tr>\n",
       "  </tbody>\n",
       "</table>\n",
       "<p>36651 rows × 5 columns</p>\n",
       "</div>"
      ]
     },
     "execution_count": 44,
     "metadata": {},
     "output_type": "execute_result"
    }
   ],
   "execution_count": 44
  },
  {
   "metadata": {
    "ExecuteTime": {
     "end_time": "2025-02-14T01:02:52.449633Z",
     "start_time": "2025-02-14T01:02:52.438631Z"
    }
   },
   "cell_type": "code",
   "source": [
    "# Make a new dataset of dropped columns\n",
    "combined_df_dropped = combined_df[combined_df[\"Population\"] != 0]\n",
    "combined_df_dropped = combined_df_dropped.reset_index(drop=True)"
   ],
   "id": "397924cabba2baea",
   "outputs": [],
   "execution_count": 45
  },
  {
   "metadata": {
    "ExecuteTime": {
     "end_time": "2025-02-14T01:02:52.512631Z",
     "start_time": "2025-02-14T01:02:52.492632Z"
    }
   },
   "cell_type": "code",
   "source": [
    "# If you wanted a df of only rows with pop data\n",
    "combined_df_dropped"
   ],
   "id": "8568a1c4045348de",
   "outputs": [
    {
     "data": {
      "text/plain": [
       "               series_id  year period    value  Population\n",
       "0      PRS30006011        2013    Q01    1.400   311536594\n",
       "1      PRS30006011        2013    Q02    0.400   311536594\n",
       "2      PRS30006011        2013    Q03    0.300   311536594\n",
       "3      PRS30006011        2013    Q04    0.700   311536594\n",
       "4      PRS30006011        2013    Q05    0.700   311536594\n",
       "...                  ...   ...    ...      ...         ...\n",
       "12250  PRS88003203        2022    Q01  110.874   331097593\n",
       "12251  PRS88003203        2022    Q02  112.204   331097593\n",
       "12252  PRS88003203        2022    Q03  113.182   331097593\n",
       "12253  PRS88003203        2022    Q04  113.751   331097593\n",
       "12254  PRS88003203        2022    Q05  112.509   331097593\n",
       "\n",
       "[12255 rows x 5 columns]"
      ],
      "text/html": [
       "<div>\n",
       "<style scoped>\n",
       "    .dataframe tbody tr th:only-of-type {\n",
       "        vertical-align: middle;\n",
       "    }\n",
       "\n",
       "    .dataframe tbody tr th {\n",
       "        vertical-align: top;\n",
       "    }\n",
       "\n",
       "    .dataframe thead th {\n",
       "        text-align: right;\n",
       "    }\n",
       "</style>\n",
       "<table border=\"1\" class=\"dataframe\">\n",
       "  <thead>\n",
       "    <tr style=\"text-align: right;\">\n",
       "      <th></th>\n",
       "      <th>series_id</th>\n",
       "      <th>year</th>\n",
       "      <th>period</th>\n",
       "      <th>value</th>\n",
       "      <th>Population</th>\n",
       "    </tr>\n",
       "  </thead>\n",
       "  <tbody>\n",
       "    <tr>\n",
       "      <th>0</th>\n",
       "      <td>PRS30006011</td>\n",
       "      <td>2013</td>\n",
       "      <td>Q01</td>\n",
       "      <td>1.400</td>\n",
       "      <td>311536594</td>\n",
       "    </tr>\n",
       "    <tr>\n",
       "      <th>1</th>\n",
       "      <td>PRS30006011</td>\n",
       "      <td>2013</td>\n",
       "      <td>Q02</td>\n",
       "      <td>0.400</td>\n",
       "      <td>311536594</td>\n",
       "    </tr>\n",
       "    <tr>\n",
       "      <th>2</th>\n",
       "      <td>PRS30006011</td>\n",
       "      <td>2013</td>\n",
       "      <td>Q03</td>\n",
       "      <td>0.300</td>\n",
       "      <td>311536594</td>\n",
       "    </tr>\n",
       "    <tr>\n",
       "      <th>3</th>\n",
       "      <td>PRS30006011</td>\n",
       "      <td>2013</td>\n",
       "      <td>Q04</td>\n",
       "      <td>0.700</td>\n",
       "      <td>311536594</td>\n",
       "    </tr>\n",
       "    <tr>\n",
       "      <th>4</th>\n",
       "      <td>PRS30006011</td>\n",
       "      <td>2013</td>\n",
       "      <td>Q05</td>\n",
       "      <td>0.700</td>\n",
       "      <td>311536594</td>\n",
       "    </tr>\n",
       "    <tr>\n",
       "      <th>...</th>\n",
       "      <td>...</td>\n",
       "      <td>...</td>\n",
       "      <td>...</td>\n",
       "      <td>...</td>\n",
       "      <td>...</td>\n",
       "    </tr>\n",
       "    <tr>\n",
       "      <th>12250</th>\n",
       "      <td>PRS88003203</td>\n",
       "      <td>2022</td>\n",
       "      <td>Q01</td>\n",
       "      <td>110.874</td>\n",
       "      <td>331097593</td>\n",
       "    </tr>\n",
       "    <tr>\n",
       "      <th>12251</th>\n",
       "      <td>PRS88003203</td>\n",
       "      <td>2022</td>\n",
       "      <td>Q02</td>\n",
       "      <td>112.204</td>\n",
       "      <td>331097593</td>\n",
       "    </tr>\n",
       "    <tr>\n",
       "      <th>12252</th>\n",
       "      <td>PRS88003203</td>\n",
       "      <td>2022</td>\n",
       "      <td>Q03</td>\n",
       "      <td>113.182</td>\n",
       "      <td>331097593</td>\n",
       "    </tr>\n",
       "    <tr>\n",
       "      <th>12253</th>\n",
       "      <td>PRS88003203</td>\n",
       "      <td>2022</td>\n",
       "      <td>Q04</td>\n",
       "      <td>113.751</td>\n",
       "      <td>331097593</td>\n",
       "    </tr>\n",
       "    <tr>\n",
       "      <th>12254</th>\n",
       "      <td>PRS88003203</td>\n",
       "      <td>2022</td>\n",
       "      <td>Q05</td>\n",
       "      <td>112.509</td>\n",
       "      <td>331097593</td>\n",
       "    </tr>\n",
       "  </tbody>\n",
       "</table>\n",
       "<p>12255 rows × 5 columns</p>\n",
       "</div>"
      ]
     },
     "execution_count": 46,
     "metadata": {},
     "output_type": "execute_result"
    }
   ],
   "execution_count": 46
  },
  {
   "metadata": {
    "ExecuteTime": {
     "end_time": "2025-02-14T01:02:52.575631Z",
     "start_time": "2025-02-14T01:02:52.560631Z"
    }
   },
   "cell_type": "code",
   "source": "combined_df.dtypes",
   "id": "305c7ffbf2ce9668",
   "outputs": [
    {
     "data": {
      "text/plain": [
       "series_id      object\n",
       "year            int64\n",
       "period         object\n",
       "value         float64\n",
       "Population      int64\n",
       "dtype: object"
      ]
     },
     "execution_count": 47,
     "metadata": {},
     "output_type": "execute_result"
    }
   ],
   "execution_count": 47
  },
  {
   "metadata": {
    "ExecuteTime": {
     "end_time": "2025-02-14T01:02:52.639644Z",
     "start_time": "2025-02-14T01:02:52.631644Z"
    }
   },
   "cell_type": "code",
   "source": [
    "# Insight wasn't working, exact value couldn't be found. Whitespace was in series id\n",
    "combined_df['series_id'] = combined_df['series_id'].str.strip()"
   ],
   "id": "344624ffe1f0168c",
   "outputs": [],
   "execution_count": 48
  },
  {
   "metadata": {
    "ExecuteTime": {
     "end_time": "2025-02-14T01:07:44.827812Z",
     "start_time": "2025-02-14T01:07:44.812810Z"
    }
   },
   "cell_type": "code",
   "source": [
    "combined_insight = combined_df[\n",
    "    (combined_df['series_id'] == 'PRS30006032') &\n",
    "    (combined_df['year'] == 2018) &\n",
    "    (combined_df['period'] == 'Q01')\n",
    "]"
   ],
   "id": "e4192fb798b6c7f4",
   "outputs": [],
   "execution_count": 60
  },
  {
   "metadata": {
    "ExecuteTime": {
     "end_time": "2025-02-14T01:07:45.159763Z",
     "start_time": "2025-02-14T01:07:45.147763Z"
    }
   },
   "cell_type": "code",
   "source": "combined_insight",
   "id": "6213dde85b023924",
   "outputs": [
    {
     "data": {
      "text/plain": [
       "        series_id  year period  value  Population\n",
       "1165  PRS30006032  2018    Q01    0.4   322903030"
      ],
      "text/html": [
       "<div>\n",
       "<style scoped>\n",
       "    .dataframe tbody tr th:only-of-type {\n",
       "        vertical-align: middle;\n",
       "    }\n",
       "\n",
       "    .dataframe tbody tr th {\n",
       "        vertical-align: top;\n",
       "    }\n",
       "\n",
       "    .dataframe thead th {\n",
       "        text-align: right;\n",
       "    }\n",
       "</style>\n",
       "<table border=\"1\" class=\"dataframe\">\n",
       "  <thead>\n",
       "    <tr style=\"text-align: right;\">\n",
       "      <th></th>\n",
       "      <th>series_id</th>\n",
       "      <th>year</th>\n",
       "      <th>period</th>\n",
       "      <th>value</th>\n",
       "      <th>Population</th>\n",
       "    </tr>\n",
       "  </thead>\n",
       "  <tbody>\n",
       "    <tr>\n",
       "      <th>1165</th>\n",
       "      <td>PRS30006032</td>\n",
       "      <td>2018</td>\n",
       "      <td>Q01</td>\n",
       "      <td>0.4</td>\n",
       "      <td>322903030</td>\n",
       "    </tr>\n",
       "  </tbody>\n",
       "</table>\n",
       "</div>"
      ]
     },
     "execution_count": 61,
     "metadata": {},
     "output_type": "execute_result"
    }
   ],
   "execution_count": 61
  },
  {
   "metadata": {},
   "cell_type": "markdown",
   "source": "Results",
   "id": "1a25384f49aaa160"
  },
  {
   "metadata": {},
   "cell_type": "markdown",
   "source": "1.",
   "id": "65e8668445f3d9c1"
  },
  {
   "metadata": {
    "ExecuteTime": {
     "end_time": "2025-02-14T01:04:09.103771Z",
     "start_time": "2025-02-14T01:04:09.091770Z"
    }
   },
   "cell_type": "code",
   "source": [
    "print(int(population_mean))\n",
    "print(population_std)"
   ],
   "id": "5489912a3cc78305",
   "outputs": [
    {
     "name": "stdout",
     "output_type": "stream",
     "text": [
      "317437383\n",
      "4257089.5415293295\n"
     ]
    }
   ],
   "execution_count": 55
  },
  {
   "metadata": {},
   "cell_type": "markdown",
   "source": "2.",
   "id": "bed665d1c0749fe4"
  },
  {
   "metadata": {
    "ExecuteTime": {
     "end_time": "2025-02-14T01:04:55.400887Z",
     "start_time": "2025-02-14T01:04:55.385865Z"
    }
   },
   "cell_type": "code",
   "source": "transformed_pr_data",
   "id": "cf1d5a98eed2fc4a",
   "outputs": [
    {
     "data": {
      "text/plain": [
       "             series_id  year    value\n",
       "0    PRS30006011        2022   20.500\n",
       "1    PRS30006012        2022   17.100\n",
       "2    PRS30006013        1998  704.125\n",
       "3    PRS30006021        2010   17.600\n",
       "4    PRS30006022        2010   12.500\n",
       "..                 ...   ...      ...\n",
       "277  PRS88003192        2002  282.800\n",
       "278  PRS88003193        2023  847.203\n",
       "279  PRS88003201        2022   37.200\n",
       "280  PRS88003202        2022   28.700\n",
       "281  PRS88003203        2023  577.546\n",
       "\n",
       "[282 rows x 3 columns]"
      ],
      "text/html": [
       "<div>\n",
       "<style scoped>\n",
       "    .dataframe tbody tr th:only-of-type {\n",
       "        vertical-align: middle;\n",
       "    }\n",
       "\n",
       "    .dataframe tbody tr th {\n",
       "        vertical-align: top;\n",
       "    }\n",
       "\n",
       "    .dataframe thead th {\n",
       "        text-align: right;\n",
       "    }\n",
       "</style>\n",
       "<table border=\"1\" class=\"dataframe\">\n",
       "  <thead>\n",
       "    <tr style=\"text-align: right;\">\n",
       "      <th></th>\n",
       "      <th>series_id</th>\n",
       "      <th>year</th>\n",
       "      <th>value</th>\n",
       "    </tr>\n",
       "  </thead>\n",
       "  <tbody>\n",
       "    <tr>\n",
       "      <th>0</th>\n",
       "      <td>PRS30006011</td>\n",
       "      <td>2022</td>\n",
       "      <td>20.500</td>\n",
       "    </tr>\n",
       "    <tr>\n",
       "      <th>1</th>\n",
       "      <td>PRS30006012</td>\n",
       "      <td>2022</td>\n",
       "      <td>17.100</td>\n",
       "    </tr>\n",
       "    <tr>\n",
       "      <th>2</th>\n",
       "      <td>PRS30006013</td>\n",
       "      <td>1998</td>\n",
       "      <td>704.125</td>\n",
       "    </tr>\n",
       "    <tr>\n",
       "      <th>3</th>\n",
       "      <td>PRS30006021</td>\n",
       "      <td>2010</td>\n",
       "      <td>17.600</td>\n",
       "    </tr>\n",
       "    <tr>\n",
       "      <th>4</th>\n",
       "      <td>PRS30006022</td>\n",
       "      <td>2010</td>\n",
       "      <td>12.500</td>\n",
       "    </tr>\n",
       "    <tr>\n",
       "      <th>...</th>\n",
       "      <td>...</td>\n",
       "      <td>...</td>\n",
       "      <td>...</td>\n",
       "    </tr>\n",
       "    <tr>\n",
       "      <th>277</th>\n",
       "      <td>PRS88003192</td>\n",
       "      <td>2002</td>\n",
       "      <td>282.800</td>\n",
       "    </tr>\n",
       "    <tr>\n",
       "      <th>278</th>\n",
       "      <td>PRS88003193</td>\n",
       "      <td>2023</td>\n",
       "      <td>847.203</td>\n",
       "    </tr>\n",
       "    <tr>\n",
       "      <th>279</th>\n",
       "      <td>PRS88003201</td>\n",
       "      <td>2022</td>\n",
       "      <td>37.200</td>\n",
       "    </tr>\n",
       "    <tr>\n",
       "      <th>280</th>\n",
       "      <td>PRS88003202</td>\n",
       "      <td>2022</td>\n",
       "      <td>28.700</td>\n",
       "    </tr>\n",
       "    <tr>\n",
       "      <th>281</th>\n",
       "      <td>PRS88003203</td>\n",
       "      <td>2023</td>\n",
       "      <td>577.546</td>\n",
       "    </tr>\n",
       "  </tbody>\n",
       "</table>\n",
       "<p>282 rows × 3 columns</p>\n",
       "</div>"
      ]
     },
     "execution_count": 56,
     "metadata": {},
     "output_type": "execute_result"
    }
   ],
   "execution_count": 56
  },
  {
   "metadata": {
    "ExecuteTime": {
     "end_time": "2025-02-14T01:12:17.248061Z",
     "start_time": "2025-02-14T01:12:17.233118Z"
    }
   },
   "cell_type": "code",
   "source": [
    "insight = transformed_pr_data[\n",
    "    transformed_pr_data['series_id'].isin(['PRS30006011', 'PRS30006012'])\n",
    "]"
   ],
   "id": "40b4273914bfdce6",
   "outputs": [],
   "execution_count": 66
  },
  {
   "metadata": {
    "ExecuteTime": {
     "end_time": "2025-02-14T01:12:17.771768Z",
     "start_time": "2025-02-14T01:12:17.757875Z"
    }
   },
   "cell_type": "code",
   "source": "insight",
   "id": "f06f2a42425e01bb",
   "outputs": [
    {
     "data": {
      "text/plain": [
       "     series_id  year  value\n",
       "0  PRS30006011  2022   20.5\n",
       "1  PRS30006012  2022   17.1"
      ],
      "text/html": [
       "<div>\n",
       "<style scoped>\n",
       "    .dataframe tbody tr th:only-of-type {\n",
       "        vertical-align: middle;\n",
       "    }\n",
       "\n",
       "    .dataframe tbody tr th {\n",
       "        vertical-align: top;\n",
       "    }\n",
       "\n",
       "    .dataframe thead th {\n",
       "        text-align: right;\n",
       "    }\n",
       "</style>\n",
       "<table border=\"1\" class=\"dataframe\">\n",
       "  <thead>\n",
       "    <tr style=\"text-align: right;\">\n",
       "      <th></th>\n",
       "      <th>series_id</th>\n",
       "      <th>year</th>\n",
       "      <th>value</th>\n",
       "    </tr>\n",
       "  </thead>\n",
       "  <tbody>\n",
       "    <tr>\n",
       "      <th>0</th>\n",
       "      <td>PRS30006011</td>\n",
       "      <td>2022</td>\n",
       "      <td>20.5</td>\n",
       "    </tr>\n",
       "    <tr>\n",
       "      <th>1</th>\n",
       "      <td>PRS30006012</td>\n",
       "      <td>2022</td>\n",
       "      <td>17.1</td>\n",
       "    </tr>\n",
       "  </tbody>\n",
       "</table>\n",
       "</div>"
      ]
     },
     "execution_count": 67,
     "metadata": {},
     "output_type": "execute_result"
    }
   ],
   "execution_count": 67
  },
  {
   "metadata": {},
   "cell_type": "markdown",
   "source": "3.",
   "id": "6894484b00845601"
  },
  {
   "metadata": {
    "ExecuteTime": {
     "end_time": "2025-02-14T01:12:57.122816Z",
     "start_time": "2025-02-14T01:12:57.110817Z"
    }
   },
   "cell_type": "code",
   "source": "combined_df",
   "id": "7a9ccb9fa4afb5c7",
   "outputs": [
    {
     "data": {
      "text/plain": [
       "         series_id  year period    value  Population\n",
       "0      PRS30006011  1995    Q01    2.600           0\n",
       "1      PRS30006011  1995    Q02    2.100           0\n",
       "2      PRS30006011  1995    Q03    0.900           0\n",
       "3      PRS30006011  1995    Q04    0.100           0\n",
       "4      PRS30006011  1995    Q05    1.400           0\n",
       "...            ...   ...    ...      ...         ...\n",
       "36646  PRS88003203  2023    Q04  115.334           0\n",
       "36647  PRS88003203  2023    Q05  115.509           0\n",
       "36648  PRS88003203  2024    Q01  116.936           0\n",
       "36649  PRS88003203  2024    Q02  116.544           0\n",
       "36650  PRS88003203  2024    Q03  116.657           0\n",
       "\n",
       "[36651 rows x 5 columns]"
      ],
      "text/html": [
       "<div>\n",
       "<style scoped>\n",
       "    .dataframe tbody tr th:only-of-type {\n",
       "        vertical-align: middle;\n",
       "    }\n",
       "\n",
       "    .dataframe tbody tr th {\n",
       "        vertical-align: top;\n",
       "    }\n",
       "\n",
       "    .dataframe thead th {\n",
       "        text-align: right;\n",
       "    }\n",
       "</style>\n",
       "<table border=\"1\" class=\"dataframe\">\n",
       "  <thead>\n",
       "    <tr style=\"text-align: right;\">\n",
       "      <th></th>\n",
       "      <th>series_id</th>\n",
       "      <th>year</th>\n",
       "      <th>period</th>\n",
       "      <th>value</th>\n",
       "      <th>Population</th>\n",
       "    </tr>\n",
       "  </thead>\n",
       "  <tbody>\n",
       "    <tr>\n",
       "      <th>0</th>\n",
       "      <td>PRS30006011</td>\n",
       "      <td>1995</td>\n",
       "      <td>Q01</td>\n",
       "      <td>2.600</td>\n",
       "      <td>0</td>\n",
       "    </tr>\n",
       "    <tr>\n",
       "      <th>1</th>\n",
       "      <td>PRS30006011</td>\n",
       "      <td>1995</td>\n",
       "      <td>Q02</td>\n",
       "      <td>2.100</td>\n",
       "      <td>0</td>\n",
       "    </tr>\n",
       "    <tr>\n",
       "      <th>2</th>\n",
       "      <td>PRS30006011</td>\n",
       "      <td>1995</td>\n",
       "      <td>Q03</td>\n",
       "      <td>0.900</td>\n",
       "      <td>0</td>\n",
       "    </tr>\n",
       "    <tr>\n",
       "      <th>3</th>\n",
       "      <td>PRS30006011</td>\n",
       "      <td>1995</td>\n",
       "      <td>Q04</td>\n",
       "      <td>0.100</td>\n",
       "      <td>0</td>\n",
       "    </tr>\n",
       "    <tr>\n",
       "      <th>4</th>\n",
       "      <td>PRS30006011</td>\n",
       "      <td>1995</td>\n",
       "      <td>Q05</td>\n",
       "      <td>1.400</td>\n",
       "      <td>0</td>\n",
       "    </tr>\n",
       "    <tr>\n",
       "      <th>...</th>\n",
       "      <td>...</td>\n",
       "      <td>...</td>\n",
       "      <td>...</td>\n",
       "      <td>...</td>\n",
       "      <td>...</td>\n",
       "    </tr>\n",
       "    <tr>\n",
       "      <th>36646</th>\n",
       "      <td>PRS88003203</td>\n",
       "      <td>2023</td>\n",
       "      <td>Q04</td>\n",
       "      <td>115.334</td>\n",
       "      <td>0</td>\n",
       "    </tr>\n",
       "    <tr>\n",
       "      <th>36647</th>\n",
       "      <td>PRS88003203</td>\n",
       "      <td>2023</td>\n",
       "      <td>Q05</td>\n",
       "      <td>115.509</td>\n",
       "      <td>0</td>\n",
       "    </tr>\n",
       "    <tr>\n",
       "      <th>36648</th>\n",
       "      <td>PRS88003203</td>\n",
       "      <td>2024</td>\n",
       "      <td>Q01</td>\n",
       "      <td>116.936</td>\n",
       "      <td>0</td>\n",
       "    </tr>\n",
       "    <tr>\n",
       "      <th>36649</th>\n",
       "      <td>PRS88003203</td>\n",
       "      <td>2024</td>\n",
       "      <td>Q02</td>\n",
       "      <td>116.544</td>\n",
       "      <td>0</td>\n",
       "    </tr>\n",
       "    <tr>\n",
       "      <th>36650</th>\n",
       "      <td>PRS88003203</td>\n",
       "      <td>2024</td>\n",
       "      <td>Q03</td>\n",
       "      <td>116.657</td>\n",
       "      <td>0</td>\n",
       "    </tr>\n",
       "  </tbody>\n",
       "</table>\n",
       "<p>36651 rows × 5 columns</p>\n",
       "</div>"
      ]
     },
     "execution_count": 68,
     "metadata": {},
     "output_type": "execute_result"
    }
   ],
   "execution_count": 68
  },
  {
   "metadata": {
    "ExecuteTime": {
     "end_time": "2025-02-14T01:13:21.004761Z",
     "start_time": "2025-02-14T01:13:20.989761Z"
    }
   },
   "cell_type": "code",
   "source": [
    "combined_insight = combined_df[\n",
    "    (combined_df['series_id'] == 'PRS30006032') &\n",
    "    (combined_df['year'] == 2018) &\n",
    "    (combined_df['period'] == 'Q01')\n",
    "]"
   ],
   "id": "3d115318d17bdef8",
   "outputs": [],
   "execution_count": 69
  },
  {
   "metadata": {
    "ExecuteTime": {
     "end_time": "2025-02-14T01:13:21.590828Z",
     "start_time": "2025-02-14T01:13:21.575829Z"
    }
   },
   "cell_type": "code",
   "source": "combined_insight",
   "id": "5e8535147e921f71",
   "outputs": [
    {
     "data": {
      "text/plain": [
       "        series_id  year period  value  Population\n",
       "1165  PRS30006032  2018    Q01    0.4   322903030"
      ],
      "text/html": [
       "<div>\n",
       "<style scoped>\n",
       "    .dataframe tbody tr th:only-of-type {\n",
       "        vertical-align: middle;\n",
       "    }\n",
       "\n",
       "    .dataframe tbody tr th {\n",
       "        vertical-align: top;\n",
       "    }\n",
       "\n",
       "    .dataframe thead th {\n",
       "        text-align: right;\n",
       "    }\n",
       "</style>\n",
       "<table border=\"1\" class=\"dataframe\">\n",
       "  <thead>\n",
       "    <tr style=\"text-align: right;\">\n",
       "      <th></th>\n",
       "      <th>series_id</th>\n",
       "      <th>year</th>\n",
       "      <th>period</th>\n",
       "      <th>value</th>\n",
       "      <th>Population</th>\n",
       "    </tr>\n",
       "  </thead>\n",
       "  <tbody>\n",
       "    <tr>\n",
       "      <th>1165</th>\n",
       "      <td>PRS30006032</td>\n",
       "      <td>2018</td>\n",
       "      <td>Q01</td>\n",
       "      <td>0.4</td>\n",
       "      <td>322903030</td>\n",
       "    </tr>\n",
       "  </tbody>\n",
       "</table>\n",
       "</div>"
      ]
     },
     "execution_count": 70,
     "metadata": {},
     "output_type": "execute_result"
    }
   ],
   "execution_count": 70
  }
 ],
 "metadata": {
  "kernelspec": {
   "display_name": "Python 3",
   "language": "python",
   "name": "python3"
  },
  "language_info": {
   "codemirror_mode": {
    "name": "ipython",
    "version": 2
   },
   "file_extension": ".py",
   "mimetype": "text/x-python",
   "name": "python",
   "nbconvert_exporter": "python",
   "pygments_lexer": "ipython2",
   "version": "2.7.6"
  }
 },
 "nbformat": 4,
 "nbformat_minor": 5
}
